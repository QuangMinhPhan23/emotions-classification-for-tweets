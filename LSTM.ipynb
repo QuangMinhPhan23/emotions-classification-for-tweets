{
  "nbformat": 4,
  "nbformat_minor": 0,
  "metadata": {
    "colab": {
      "provenance": [],
      "gpuType": "T4",
      "include_colab_link": true
    },
    "kernelspec": {
      "name": "python3",
      "display_name": "Python 3"
    },
    "language_info": {
      "name": "python"
    },
    "accelerator": "GPU"
  },
  "cells": [
    {
      "cell_type": "markdown",
      "metadata": {
        "id": "view-in-github",
        "colab_type": "text"
      },
      "source": [
        "<a href=\"https://colab.research.google.com/github/QuangMinhPhan23/emotions-classification-for-tweets/blob/main/LSTM.ipynb\" target=\"_parent\"><img src=\"https://colab.research.google.com/assets/colab-badge.svg\" alt=\"Open In Colab\"/></a>"
      ]
    },
    {
      "cell_type": "markdown",
      "source": [
        "# <b><div style='padding:15px;background-color:#850E35;color:white;border-radius:2px;font-size:110%;text-align: center'>1. Introduction, Motivation and Problem Statement </div></b>\n",
        "\n",
        "Classification, which process massive inputs to required classes is one of the fundamental task in machine learning. In this project, we will build the LSTM model and then evaluate it to read English text from users in Tweet and classify the into six basic emotions:\n",
        "\n",
        "`sadness`, `joy`, `love`, `anger`, `fear`, or `surprise`.\n",
        "\n",
        "The task is important and have media applications such as:\n",
        "\n",
        "- Enhancing conversational agents\n",
        "- System recommendation based on emotion\n",
        "- Sentiment monitoring on social media\n",
        "\n",
        "This project is run on Google Colab, parameters are adjusted to fit the memory of Google Colab."
      ],
      "metadata": {
        "id": "BhnmzvCis-HE"
      }
    },
    {
      "cell_type": "code",
      "source": [
        "!pip install -U datasets huggingface_hub fsspec\n",
        "!pip install tensorflow==2.8.0\n"
      ],
      "metadata": {
        "colab": {
          "base_uri": "https://localhost:8080/"
        },
        "id": "Ad_5F9QRZC0-",
        "outputId": "a1bd375a-7a41-4a64-fd29-4bb122244232"
      },
      "execution_count": null,
      "outputs": [
        {
          "output_type": "stream",
          "name": "stdout",
          "text": [
            "Requirement already satisfied: datasets in /usr/local/lib/python3.11/dist-packages (4.0.0)\n",
            "Requirement already satisfied: huggingface_hub in /usr/local/lib/python3.11/dist-packages (0.34.1)\n",
            "Requirement already satisfied: fsspec in /usr/local/lib/python3.11/dist-packages (2025.3.0)\n",
            "Collecting fsspec\n",
            "  Using cached fsspec-2025.7.0-py3-none-any.whl.metadata (12 kB)\n",
            "Requirement already satisfied: filelock in /usr/local/lib/python3.11/dist-packages (from datasets) (3.18.0)\n",
            "Requirement already satisfied: numpy>=1.17 in /usr/local/lib/python3.11/dist-packages (from datasets) (2.0.2)\n",
            "Requirement already satisfied: pyarrow>=15.0.0 in /usr/local/lib/python3.11/dist-packages (from datasets) (18.1.0)\n",
            "Requirement already satisfied: dill<0.3.9,>=0.3.0 in /usr/local/lib/python3.11/dist-packages (from datasets) (0.3.8)\n",
            "Requirement already satisfied: pandas in /usr/local/lib/python3.11/dist-packages (from datasets) (2.2.2)\n",
            "Requirement already satisfied: requests>=2.32.2 in /usr/local/lib/python3.11/dist-packages (from datasets) (2.32.3)\n",
            "Requirement already satisfied: tqdm>=4.66.3 in /usr/local/lib/python3.11/dist-packages (from datasets) (4.67.1)\n",
            "Requirement already satisfied: xxhash in /usr/local/lib/python3.11/dist-packages (from datasets) (3.5.0)\n",
            "Requirement already satisfied: multiprocess<0.70.17 in /usr/local/lib/python3.11/dist-packages (from datasets) (0.70.16)\n",
            "Requirement already satisfied: packaging in /usr/local/lib/python3.11/dist-packages (from datasets) (25.0)\n",
            "Requirement already satisfied: pyyaml>=5.1 in /usr/local/lib/python3.11/dist-packages (from datasets) (6.0.2)\n",
            "Requirement already satisfied: typing-extensions>=3.7.4.3 in /usr/local/lib/python3.11/dist-packages (from huggingface_hub) (4.14.1)\n",
            "Requirement already satisfied: hf-xet<2.0.0,>=1.1.3 in /usr/local/lib/python3.11/dist-packages (from huggingface_hub) (1.1.5)\n",
            "Requirement already satisfied: aiohttp!=4.0.0a0,!=4.0.0a1 in /usr/local/lib/python3.11/dist-packages (from fsspec[http]<=2025.3.0,>=2023.1.0->datasets) (3.12.14)\n",
            "Requirement already satisfied: charset-normalizer<4,>=2 in /usr/local/lib/python3.11/dist-packages (from requests>=2.32.2->datasets) (3.4.2)\n",
            "Requirement already satisfied: idna<4,>=2.5 in /usr/local/lib/python3.11/dist-packages (from requests>=2.32.2->datasets) (3.10)\n",
            "Requirement already satisfied: urllib3<3,>=1.21.1 in /usr/local/lib/python3.11/dist-packages (from requests>=2.32.2->datasets) (2.5.0)\n",
            "Requirement already satisfied: certifi>=2017.4.17 in /usr/local/lib/python3.11/dist-packages (from requests>=2.32.2->datasets) (2025.7.14)\n",
            "Requirement already satisfied: python-dateutil>=2.8.2 in /usr/local/lib/python3.11/dist-packages (from pandas->datasets) (2.9.0.post0)\n",
            "Requirement already satisfied: pytz>=2020.1 in /usr/local/lib/python3.11/dist-packages (from pandas->datasets) (2025.2)\n",
            "Requirement already satisfied: tzdata>=2022.7 in /usr/local/lib/python3.11/dist-packages (from pandas->datasets) (2025.2)\n",
            "Requirement already satisfied: aiohappyeyeballs>=2.5.0 in /usr/local/lib/python3.11/dist-packages (from aiohttp!=4.0.0a0,!=4.0.0a1->fsspec[http]<=2025.3.0,>=2023.1.0->datasets) (2.6.1)\n",
            "Requirement already satisfied: aiosignal>=1.4.0 in /usr/local/lib/python3.11/dist-packages (from aiohttp!=4.0.0a0,!=4.0.0a1->fsspec[http]<=2025.3.0,>=2023.1.0->datasets) (1.4.0)\n",
            "Requirement already satisfied: attrs>=17.3.0 in /usr/local/lib/python3.11/dist-packages (from aiohttp!=4.0.0a0,!=4.0.0a1->fsspec[http]<=2025.3.0,>=2023.1.0->datasets) (25.3.0)\n",
            "Requirement already satisfied: frozenlist>=1.1.1 in /usr/local/lib/python3.11/dist-packages (from aiohttp!=4.0.0a0,!=4.0.0a1->fsspec[http]<=2025.3.0,>=2023.1.0->datasets) (1.7.0)\n",
            "Requirement already satisfied: multidict<7.0,>=4.5 in /usr/local/lib/python3.11/dist-packages (from aiohttp!=4.0.0a0,!=4.0.0a1->fsspec[http]<=2025.3.0,>=2023.1.0->datasets) (6.6.3)\n",
            "Requirement already satisfied: propcache>=0.2.0 in /usr/local/lib/python3.11/dist-packages (from aiohttp!=4.0.0a0,!=4.0.0a1->fsspec[http]<=2025.3.0,>=2023.1.0->datasets) (0.3.2)\n",
            "Requirement already satisfied: yarl<2.0,>=1.17.0 in /usr/local/lib/python3.11/dist-packages (from aiohttp!=4.0.0a0,!=4.0.0a1->fsspec[http]<=2025.3.0,>=2023.1.0->datasets) (1.20.1)\n",
            "Requirement already satisfied: six>=1.5 in /usr/local/lib/python3.11/dist-packages (from python-dateutil>=2.8.2->pandas->datasets) (1.17.0)\n",
            "\u001b[31mERROR: Could not find a version that satisfies the requirement tensorflow==2.8.0 (from versions: 2.12.0rc0, 2.12.0rc1, 2.12.0, 2.12.1, 2.13.0rc0, 2.13.0rc1, 2.13.0rc2, 2.13.0, 2.13.1, 2.14.0rc0, 2.14.0rc1, 2.14.0, 2.14.1, 2.15.0rc0, 2.15.0rc1, 2.15.0, 2.15.0.post1, 2.15.1, 2.16.0rc0, 2.16.1, 2.16.2, 2.17.0rc0, 2.17.0rc1, 2.17.0, 2.17.1, 2.18.0rc0, 2.18.0rc1, 2.18.0rc2, 2.18.0, 2.18.1, 2.19.0rc0, 2.19.0)\u001b[0m\u001b[31m\n",
            "\u001b[0m\u001b[31mERROR: No matching distribution found for tensorflow==2.8.0\u001b[0m\u001b[31m\n",
            "\u001b[0m"
          ]
        }
      ]
    },
    {
      "cell_type": "markdown",
      "source": [
        "# <b><div style='padding:15px;background-color:#850E35;color:white;border-radius:2px;font-size:110%;text-align: center'> The dataset </div></b>\n",
        "\n",
        "\n",
        "We use the **[`dair‑ai/emotion`](https://huggingface.co/datasets/dair-ai/emotion)** dataset on HuggingFace, which contains around 20,000 English text samples labelled with one of six emotions. The dataset is split into training, validation, and test subsets. Each sample is a short text message (tweet) with a single emotion label.\n",
        "\n",
        "Below, we download and explore the dataset.\n"
      ],
      "metadata": {
        "id": "icslYpN8nGT_"
      }
    },
    {
      "cell_type": "code",
      "execution_count": null,
      "metadata": {
        "id": "Idq5zMHJYXVI",
        "colab": {
          "base_uri": "https://localhost:8080/"
        },
        "outputId": "85bfe6f5-5a16-4e4c-8666-b71da674bee0"
      },
      "outputs": [
        {
          "output_type": "stream",
          "name": "stderr",
          "text": [
            "[nltk_data] Downloading package omw-1.4 to /root/nltk_data...\n",
            "[nltk_data]   Package omw-1.4 is already up-to-date!\n",
            "[nltk_data] Downloading package wordnet to /root/nltk_data...\n",
            "[nltk_data]   Package wordnet is already up-to-date!\n",
            "[nltk_data] Downloading package punkt to /root/nltk_data...\n",
            "[nltk_data]   Package punkt is already up-to-date!\n",
            "[nltk_data] Downloading package stopwords to /root/nltk_data...\n",
            "[nltk_data]   Package stopwords is already up-to-date!\n"
          ]
        },
        {
          "output_type": "execute_result",
          "data": {
            "text/plain": [
              "True"
            ]
          },
          "metadata": {},
          "execution_count": 8
        }
      ],
      "source": [
        "from datasets import load_dataset\n",
        "import pandas as pd\n",
        "import numpy as np\n",
        "import re\n",
        "import nltk\n",
        "import tensorflow as tf\n",
        "from nltk.corpus import stopwords\n",
        "from nltk.stem import WordNetLemmatizer\n",
        "from nltk.tokenize import word_tokenize\n",
        "from tensorflow.keras.layers import Input, concatenate, SpatialDropout1D\n",
        "from tensorflow.keras.models import Model\n",
        "\n",
        "nltk.download('omw-1.4')  # Download the OMW data\n",
        "nltk.download('wordnet')   # Also ensure WordNet is downloaded\n",
        "nltk.download('punkt')     # Needed for tokenization\n",
        "nltk.download('stopwords')\n"
      ]
    },
    {
      "cell_type": "code",
      "source": [
        "data = load_dataset(\"dair-ai/emotion\", \"split\")\n",
        "data.save_to_disk(\"./data\")\n",
        "#df = pd.read_csv('data.csv')\n",
        "\n",
        "\n",
        "train_data = data['train']\n",
        "train = train_data.to_pandas()\n",
        "\n",
        "test_data = data['test']\n",
        "\n",
        "print(data.column_names)"
      ],
      "metadata": {
        "colab": {
          "base_uri": "https://localhost:8080/",
          "height": 130,
          "referenced_widgets": [
            "0d5328ad016141f39dbbe3262ee1d4c6",
            "407b65553a574f9295e801ea3a2845e5",
            "4ce9dee99bd34c5691e64e1506520868",
            "b104825135dd45cf8a6615b599588028",
            "b036c3fae8554336b6b8f77e4d8ca9f1",
            "29c84641a007406294f7a51bb20c16cf",
            "597d41457607450787b842e2f1fb1c2b",
            "ffe2477d895747bd916699d2065d92c9",
            "0bcbbe09c8aa46d6810626522f909675",
            "9ce50a88cd474991bd3cba6616e3996e",
            "d090a5120cbb400ba7856cd123af3c80",
            "658a3341f64b47caa6e9bac30f7f1319",
            "ea181145c310443da096a447cb6f8baf",
            "d88a43b132264e06859efc4273920fc2",
            "cebf14f5cce9429789b9cee2e999dd12",
            "da3fc1847f2c43d09688aa233a8989ad",
            "5d9c3710a09d435ea0f2d954f9fde6cc",
            "48e44af0e9be4cc4a42bcd62d5defd19",
            "812f17cbecd64cc9a04655443f58010c",
            "c5163b30e969404ead31ff70986c4e2e",
            "e2c98f49278f4776a41ee8a0cc15f210",
            "c198ec4e220a4c2fb1b8284db419578e",
            "7f1e060857094173a6d2330fb4480f6f",
            "996fa4700a1d49859149a4ac68ccb7a2",
            "967ca4b2e8f0474892676212ece75274",
            "1f2246b61c1d4c51b77ef6c6bfb3585b",
            "b6279d3cd4ec4d0ea51c4096ca6cba17",
            "c25be3c0dc574d99812989f1708d3eb3",
            "df31849c146744c9831e572ccf302e80",
            "50710ffe1ba9482ea7b50eb4ee68cb71",
            "a016ff72855141578fd5e3b0e3349ccb",
            "ac9d4dfaa5cc4cd3977f48013dff2838",
            "9648faeec9b54fe2bd9de89b08d35528"
          ]
        },
        "id": "oSDUbb2ehPf1",
        "outputId": "c80465c6-4ef5-4db8-aff5-eb931f4c6f56"
      },
      "execution_count": null,
      "outputs": [
        {
          "output_type": "display_data",
          "data": {
            "text/plain": [
              "Saving the dataset (0/1 shards):   0%|          | 0/16000 [00:00<?, ? examples/s]"
            ],
            "application/vnd.jupyter.widget-view+json": {
              "version_major": 2,
              "version_minor": 0,
              "model_id": "0d5328ad016141f39dbbe3262ee1d4c6"
            }
          },
          "metadata": {}
        },
        {
          "output_type": "display_data",
          "data": {
            "text/plain": [
              "Saving the dataset (0/1 shards):   0%|          | 0/2000 [00:00<?, ? examples/s]"
            ],
            "application/vnd.jupyter.widget-view+json": {
              "version_major": 2,
              "version_minor": 0,
              "model_id": "658a3341f64b47caa6e9bac30f7f1319"
            }
          },
          "metadata": {}
        },
        {
          "output_type": "display_data",
          "data": {
            "text/plain": [
              "Saving the dataset (0/1 shards):   0%|          | 0/2000 [00:00<?, ? examples/s]"
            ],
            "application/vnd.jupyter.widget-view+json": {
              "version_major": 2,
              "version_minor": 0,
              "model_id": "7f1e060857094173a6d2330fb4480f6f"
            }
          },
          "metadata": {}
        },
        {
          "output_type": "stream",
          "name": "stdout",
          "text": [
            "{'train': ['text', 'label'], 'validation': ['text', 'label'], 'test': ['text', 'label']}\n"
          ]
        }
      ]
    },
    {
      "cell_type": "markdown",
      "source": [
        "### Data Preprocessing\n",
        "\n",
        "  - Tokenization using Keras’s tokenizer\n",
        "  - Truncation to model max length equal 50"
      ],
      "metadata": {
        "id": "7POcuerJqLnZ"
      }
    },
    {
      "cell_type": "code",
      "source": [
        "from datasets import load_dataset\n",
        "import pandas as pd\n",
        "import numpy as np\n",
        "import re\n",
        "import nltk\n",
        "import tensorflow as tf\n",
        "from tensorflow.keras.preprocessing.text import Tokenizer\n",
        "from nltk.corpus import stopwords\n",
        "from nltk.stem import WordNetLemmatizer\n",
        "from nltk.tokenize import word_tokenize\n",
        "from tensorflow.keras.layers import SpatialDropout1D, Embedding, BatchNormalization, SpatialDropout1D, LSTM, Bidirectional, Dense\n",
        "from tensorflow.keras.models import Sequential\n",
        "from tensorflow.keras.regularizers import l2\n",
        "from sklearn.metrics import classification_report, confusion_matrix\n",
        "from tensorflow.keras.utils import to_categorical\n",
        "from tensorflow.keras.preprocessing.sequence import pad_sequences\n",
        "from torch.utils.data import DataLoader, Dataset\n",
        "import matplotlib.pyplot as plt\n",
        "import seaborn as sns\n",
        "\n",
        "# Data Preprocessing\n",
        "\n",
        "stop_words = set(stopwords.words('english'))\n",
        "lemmatizer = WordNetLemmatizer()\n",
        "\n",
        "def clean_text(data):\n",
        "    text = data['text']\n",
        "    # Remove URLs\n",
        "    text = re.sub(r'http\\S+|www\\S+|https\\S+', '', text, flags=re.MULTILINE)\n",
        "    # Remove user @ references and '#' from hashtags\n",
        "    text = re.sub(r'\\@\\w+|\\#', '', text)\n",
        "    # Remove special characters\n",
        "    text = re.sub(r'\\W', ' ', text)\n",
        "    # Remove single characters\n",
        "    text = re.sub(r'\\s+[a-zA-Z]\\s+', ' ', text)\n",
        "    # Remove multiple spaces\n",
        "    text = re.sub(r'\\s+', ' ', text, flags=re.I)\n",
        "    # Convert to lowercase\n",
        "    text = text.lower()\n",
        "    # Lemmatization and remove stopwords\n",
        "    text = ' '.join([lemmatizer.lemmatize(word) for word in text.split() if word not in stop_words])\n",
        "    return {'cleaned_text': text}\n",
        "\n",
        "data['cleaned_text'] = data.map(clean_text)\n",
        "\n",
        "# Max length is 66\n",
        "\n",
        "tokenizer = Tokenizer() #Keras Tokenizer\n",
        "tokenizer.fit_on_texts(data['train']['text'])\n",
        "MAX_LEN = 50\n",
        "\n",
        "def tokenize_text(example):\n",
        "    sequences = tokenizer.texts_to_sequences([example['text']])  # Note the list wrapping\n",
        "    padded = pad_sequences(sequences, maxlen=MAX_LEN, padding='post', truncating='post')\n",
        "    return {'input_ids': padded[0]}  # Return first (and only) sequence\n",
        "\n",
        "# Apply to dataset\n",
        "for split in data.keys():\n",
        "    data[split] = data[split].map(tokenize_text)\n"
      ],
      "metadata": {
        "id": "osZ1v6bxTEVS",
        "colab": {
          "base_uri": "https://localhost:8080/",
          "height": 305,
          "referenced_widgets": [
            "bfec3d9aa26d4b189a86bb447d12b4de",
            "0ca5190680ed46ec9530acba97522965",
            "9d5dc1cd4365446ba806b46d1abaab60",
            "b5a1ecc95956453881673fa4207d4837",
            "37e54c3d5b2f45179c8480e2b100b19f",
            "0da194e1fff1472da8ef3a206b6d17ea",
            "9269fac9e7ba428c83f2b8adff5b383a",
            "cebc9f4314d94cf798c50003b33bc380",
            "50e3039d71444bd79c2ee5779e038b2e",
            "ee27847c3a7f4dd5981b09b696584cef",
            "90f5dc37920b48329c7a622e61889fdf",
            "8c47ad7fccb44d438a60bc7e135b014f",
            "c58322b70d1c465190f1a7bd131df0f2",
            "f9ae3a6d82494389bf022f3a1434beee",
            "39f1ea33adb14a5296dbb5aa19cd592c",
            "113d2912a6cb4c43a1709103e11c6f74",
            "ad2799f9643a4636ba2539c53cb151e7",
            "04db803c4c624444bf09381ea6f7aadb",
            "9ba6894b6db24f26a7f536fed770c1cd",
            "5a9270b87d1d47f6a496ff09e56107c8",
            "e14a0b2ad7be45cd9a42870d070ea456",
            "820cbb4480bb49e3923686c181ea5818",
            "4fde7bc318f846dfa0eb7ed3bd8a7bed",
            "83f7f10c9fdb439f8bab1101f240aff9",
            "d14eaee0a09a44f4942fe4c744e7c675",
            "2b843c659acb4aa4919e1bbd2693a8da",
            "094489ffd4114126819a3ea27bf55efd",
            "f150cdd35cd7439b88f1a79f92cd50f8",
            "9c37d334d3ad4523a962814b72842bba",
            "bb2e04b0ba7f4101bd7411de55263228",
            "45ab8bf080194707b493901eac9c1e28",
            "fffff0fe256848039173f6fb3ece4c2c",
            "6becac443b6245b7861e7fd44eef8bef",
            "34d53cf9e6c14fe89c9346249d8154fe",
            "93ad98c3d480423aa8b118ac3388dd5d",
            "ec3a00ced58b4c5fb9228500de114291",
            "9159599744f84badb43763e523eefc16",
            "9038f90ed37e4e5e8edee7f128e19159",
            "85ae6ca7b0f0434c80e00540b6bd720c",
            "e4732a24bbc740baab21f1331aa04997",
            "39701237024943ceb2b6bb83f32b337c",
            "96c582c365a24666872f692b77602df7",
            "af1878a5e870469690c2123522b990cd",
            "6dd30418f4fc43dd8eb4c95dbd573f6f",
            "9daba1f8061f4ebf91bac44f43602ef0",
            "b3e0fb347fe44681ae0efdbc7f73b8bd",
            "13c132eb87e6457cac508a9e5a8d023e",
            "8108a4a37b3e49f1a63b837dd43a5d4b",
            "9f7b5403b05a4461b454e701a39fbdcf",
            "4fdf21725989429a8e27807b91f8d404",
            "ef035dc9df584fdfa85f02590e6c73a6",
            "258242036f8c40f0ba77cc9e2225a8b4",
            "b9230b1ac5ef4d3fb19d3a6b58a96ead",
            "0c36b37367cf4a50830aab8fd6dbe91f",
            "f43640974cc84193a004d044e6339a9b",
            "b7ba9abe70fe4a8ba9b30697160c409b",
            "aad16fc50b674656afe9539cb7a93c6a",
            "fbc37098e03648c3a2498fed28ffb7ed",
            "78af06d31f174311a7cfbe9d0e048a36",
            "a07bf123fcb04faa8769b2cbb36cb799",
            "ddd4f9e9973140e9982255237558e19d",
            "6efc9cfe7b8f49fead8928a7582a9a1d",
            "bdd7fa8d84484409b880add0a0c18ffe",
            "c63240884a76479092bffc39d56e3fc4",
            "bbf58e0d9f674a8a95c4b43a48281008",
            "9e7fa52c29e9442581f63ad7f496c488",
            "f9f24d559f0f4183b8ee72d3d3827aa9",
            "a755f7dcd56949bdb37ae6f4d022fc67",
            "4dc64c585bfb4530b3b2d78f973f11d0",
            "f04dc895f0294923bd9967000cc55a2c",
            "615ac6827e2c40678a11069cb5134927",
            "7ecd17bbe82c4d32aa56c80e55aab4df",
            "dc4e6d2878fe4eb6b3a0f4163192bb1b",
            "4787bde99460426a8571ae5cb6135c9e",
            "d3300f7f48c14776b44920e9bd13cc19",
            "6372575dbf674779a5e7c064e15011de",
            "9148986de44047f4b9ecacd6b36a71a6",
            "8b192e82458d4c508c222a636ddde93d",
            "cd9cffebf75e47bfb3b54842bef95560",
            "8d4caecd1fa2481cb693b8fabd750c34",
            "9f9f2073398c4c3db2754e05bcd1de52",
            "eb16ba55a81e4abf87ef59ff1a919485",
            "e5b5d12db5884c4db951667b3a951cea",
            "7408af1c43664899a9904ae98a239767",
            "00120b45b2cd4f66a21cb737cb60979d",
            "96cd6d60523e4ae3ad75b2d67fec7d02",
            "f980650b9b134353a0a923625341eff8",
            "0bf970959b734f89902721971c0ad363",
            "12cbd3b781c345908c9a9935475a3c04",
            "ac6de2685a574d0bb77b4102135b26e9",
            "4f237cc4c3564ce5aa2f95ecaec963e8",
            "c1aae1228bfd45f997809f7fbb72687f",
            "92a5fb73c55749d4bb271f46bafe35f2",
            "9c2e81375ee746da9b3ddfe1fdd678a6",
            "2252537424224fb79654818b63c6b197",
            "14fc9d06bc06496a998df75dedce7124",
            "b2b3ddbca1c745a699187549fbd21903",
            "90491469853a4b65aec922dfe88a312e",
            "c1124ccddf4c4a5ab576c66fe96674c5"
          ]
        },
        "outputId": "40e17c0e-e3c7-4c0d-9407-6c0b5d88e4e1"
      },
      "execution_count": null,
      "outputs": [
        {
          "output_type": "display_data",
          "data": {
            "text/plain": [
              "Map:   0%|          | 0/16000 [00:00<?, ? examples/s]"
            ],
            "application/vnd.jupyter.widget-view+json": {
              "version_major": 2,
              "version_minor": 0,
              "model_id": "bfec3d9aa26d4b189a86bb447d12b4de"
            }
          },
          "metadata": {}
        },
        {
          "output_type": "display_data",
          "data": {
            "text/plain": [
              "Map:   0%|          | 0/2000 [00:00<?, ? examples/s]"
            ],
            "application/vnd.jupyter.widget-view+json": {
              "version_major": 2,
              "version_minor": 0,
              "model_id": "8c47ad7fccb44d438a60bc7e135b014f"
            }
          },
          "metadata": {}
        },
        {
          "output_type": "display_data",
          "data": {
            "text/plain": [
              "Map:   0%|          | 0/2000 [00:00<?, ? examples/s]"
            ],
            "application/vnd.jupyter.widget-view+json": {
              "version_major": 2,
              "version_minor": 0,
              "model_id": "4fde7bc318f846dfa0eb7ed3bd8a7bed"
            }
          },
          "metadata": {}
        },
        {
          "output_type": "display_data",
          "data": {
            "text/plain": [
              "Map:   0%|          | 0/16000 [00:00<?, ? examples/s]"
            ],
            "application/vnd.jupyter.widget-view+json": {
              "version_major": 2,
              "version_minor": 0,
              "model_id": "34d53cf9e6c14fe89c9346249d8154fe"
            }
          },
          "metadata": {}
        },
        {
          "output_type": "display_data",
          "data": {
            "text/plain": [
              "Map:   0%|          | 0/2000 [00:00<?, ? examples/s]"
            ],
            "application/vnd.jupyter.widget-view+json": {
              "version_major": 2,
              "version_minor": 0,
              "model_id": "9daba1f8061f4ebf91bac44f43602ef0"
            }
          },
          "metadata": {}
        },
        {
          "output_type": "display_data",
          "data": {
            "text/plain": [
              "Map:   0%|          | 0/2000 [00:00<?, ? examples/s]"
            ],
            "application/vnd.jupyter.widget-view+json": {
              "version_major": 2,
              "version_minor": 0,
              "model_id": "b7ba9abe70fe4a8ba9b30697160c409b"
            }
          },
          "metadata": {}
        },
        {
          "output_type": "display_data",
          "data": {
            "text/plain": [
              "Map:   0%|          | 0/16000 [00:00<?, ? examples/s]"
            ],
            "application/vnd.jupyter.widget-view+json": {
              "version_major": 2,
              "version_minor": 0,
              "model_id": "f9f24d559f0f4183b8ee72d3d3827aa9"
            }
          },
          "metadata": {}
        },
        {
          "output_type": "display_data",
          "data": {
            "text/plain": [
              "Map:   0%|          | 0/2000 [00:00<?, ? examples/s]"
            ],
            "application/vnd.jupyter.widget-view+json": {
              "version_major": 2,
              "version_minor": 0,
              "model_id": "8b192e82458d4c508c222a636ddde93d"
            }
          },
          "metadata": {}
        },
        {
          "output_type": "display_data",
          "data": {
            "text/plain": [
              "Map:   0%|          | 0/2000 [00:00<?, ? examples/s]"
            ],
            "application/vnd.jupyter.widget-view+json": {
              "version_major": 2,
              "version_minor": 0,
              "model_id": "12cbd3b781c345908c9a9935475a3c04"
            }
          },
          "metadata": {}
        }
      ]
    },
    {
      "cell_type": "markdown",
      "source": [
        "### Prepare Class Weights to handle imbalanced data in training\n"
      ],
      "metadata": {
        "id": "pGMLyyi0rynf"
      }
    },
    {
      "cell_type": "code",
      "source": [
        "# Handle imbalanced data\n",
        "import os\n",
        "os.environ['CUDA_VISIBLE_DEVICES'] = '-1'  # Disables GPU\n",
        "from sklearn.utils.class_weight import compute_class_weight\n",
        "\n",
        "# Assuming your data is in a pandas DataFrame called 'data'\n",
        "labels = ['sadness', 'joy', 'love', 'anger', 'fear', 'surprise']  # Raw emotion labels (e.g., 'joy', 'sadness')\n",
        "\n",
        "# Convert string labels to numerical indices if needed\n",
        "from sklearn.preprocessing import LabelEncoder\n",
        "label_encoder = LabelEncoder()\n",
        "labels_numeric = label_encoder.fit_transform(labels)  # e.g., 'joy' → 0, 'sadness' → 1, etc.\n",
        "\n",
        "# Compute class weights\n",
        "# Check class distribution\n",
        "labels = np.array(data['train']['label'])\n",
        "class_counts = np.unique(labels, return_counts=True)\n",
        "print(\"Class distribution:\", class_counts)\n",
        "\n",
        "# Compute class weights\n",
        "class_weights = compute_class_weight('balanced', classes=np.unique(labels), y=labels)\n",
        "class_weights = dict(enumerate(class_weights))\n",
        "print(\"Class weights:\", class_weights)\n"
      ],
      "metadata": {
        "id": "c8M22siAZ19o",
        "outputId": "6562ebb1-724c-41c1-a945-8a939152931b",
        "colab": {
          "base_uri": "https://localhost:8080/"
        }
      },
      "execution_count": null,
      "outputs": [
        {
          "output_type": "stream",
          "name": "stdout",
          "text": [
            "Class distribution: (array([0, 1, 2, 3, 4, 5]), array([4666, 5362, 1304, 2159, 1937,  572]))\n",
            "Class weights: {0: np.float64(0.5715102157451064), 1: np.float64(0.49732686808404825), 2: np.float64(2.044989775051125), 3: np.float64(1.2351397251814111), 4: np.float64(1.3766993632765445), 5: np.float64(4.662004662004662)}\n"
          ]
        }
      ]
    },
    {
      "cell_type": "markdown",
      "source": [
        "### Prepare to use Glove Embedding\n",
        "- Embedding Tokens to dense vectors 300 dimensions using Glove.\n",
        "- Prepare the Pre-trained Embedding matrix from https://nlp.stanford.edu/projects/glove/"
      ],
      "metadata": {
        "id": "BUB0mI63saVG"
      }
    },
    {
      "cell_type": "code",
      "source": [
        "#Use Glove to embedding Tokens to dense vectors 300 dimensions\n",
        "\n",
        "max_length = 50  # Set based on your sequence analysis\n",
        "EMBEDDING_DIM = 300  # GloVe embedding dimension\n",
        "num_classes = 6  # For your 6 emotion classes\n",
        "vocab_size = len(tokenizer.word_index) + 1  # +1 for padding token (0)\n",
        "print(\"Vocabulary size:\", vocab_size)\n",
        "\n",
        "# Prepare the embedding matrix for glove\n",
        "\n",
        "def load_glove_embeddings(glove_path, embedding_dim):\n",
        "    embeddings_index = {}\n",
        "    with open(glove_path, 'r', encoding='utf-8') as f:\n",
        "            for line in f:\n",
        "                if line.strip():  # Skip empty lines\n",
        "                    values = line.split()\n",
        "                    if len(values) > 1:  # Ensure valid line\n",
        "                        word = values[0]\n",
        "                        coefs = np.asarray(values[1:], dtype='float32')\n",
        "                        embeddings_index[word] = coefs\n",
        "    #except FileNotFoundError:\n",
        "       # print(f\"Error: File {glove_path} not found! Download it first.\")\n",
        "    return embeddings_index\n",
        "\n",
        "glove_embeddings = load_glove_embeddings('glove.6B.300d.txt', 300)\n",
        "\n",
        "# Create embedding matrix\n",
        "embedding_matrix = np.zeros((vocab_size, EMBEDDING_DIM))\n",
        "for word, i in tokenizer.word_index.items():\n",
        "    if i < vocab_size+1:\n",
        "        embedding_vector = glove_embeddings.get(word)\n",
        "        if embedding_vector is not None:\n",
        "            embedding_matrix[i] = embedding_vector\n",
        "\n",
        "print(embedding_matrix[2560:2565])"
      ],
      "metadata": {
        "colab": {
          "base_uri": "https://localhost:8080/"
        },
        "id": "lQVh-8UYToR8",
        "outputId": "ca26fd5e-775d-4bb3-c8d9-b05946246b0c"
      },
      "execution_count": null,
      "outputs": [
        {
          "output_type": "stream",
          "name": "stdout",
          "text": [
            "Vocabulary size: 15213\n",
            "[[-0.37632    -0.083171   -0.54272997 ...  0.40400001  0.10301\n",
            "   0.3619    ]\n",
            " [ 0.0074537   0.34031001  0.22861999 ...  0.024352   -0.17038\n",
            "  -0.13253   ]\n",
            " [-0.60302001 -0.044943    0.13086    ...  0.1286     -0.32820001\n",
            "   0.046796  ]\n",
            " [-0.13488001  0.04698    -0.068877   ... -0.49518999  0.27897\n",
            "  -0.10379   ]\n",
            " [-0.35960001  0.42245001 -0.31964999 ... -0.68923002 -0.59885001\n",
            "  -0.29800999]]\n"
          ]
        }
      ]
    },
    {
      "cell_type": "markdown",
      "source": [
        "# <b><div style='padding:15px;background-color:#850E35;color:white;border-radius:2px;font-size:110%;text-align: center'>4. Model and Methods </div></b>\n",
        "\n",
        "We use the 2-layers LSTM model for this emotion classification task.\n",
        "\n",
        "### Methodology:\n",
        "- Model Architecture:\n",
        "  - An embedding layer\n",
        "  - A biLSTM layer with kernel regulizer l2(0.01)\n",
        "  - Another biLSTM layer with kernel regulizer\n",
        "  - A Fully Connected output layer\n",
        "  - Use Spatial Drop out rate =0.3 to reduce overfitting\n",
        "  - Use BatchNormalization to escape local minima in training\n",
        "\n",
        "- Optimization:\n",
        "  - Optimizer: Adam (`learning_rate=1e‑3`)\n",
        "  - Batch size: 32\n",
        "  - Epochs: 10\n",
        "  - Early Stopping (stop at epoch 7)\n",
        "- Evaluation:\n",
        "  - During training using CategoricalCrossentropy function from Keras with probability output\n",
        "  - Metrics: accuracy, precision, recall, f1‑score (per class), confusion matrix\n",
        "\n"
      ],
      "metadata": {
        "id": "c04t5LI5u40c"
      }
    },
    {
      "cell_type": "code",
      "source": [
        "# Build and train the LSTM model\n",
        "import tensorflow as tf\n",
        "from tensorflow.keras.models import Sequential\n",
        "from tensorflow.keras.layers import SpatialDropout1D, Embedding, BatchNormalization, SpatialDropout1D, LSTM, Bidirectional, Dense\n",
        "from tensorflow.keras.callbacks import EarlyStopping\n",
        "\n",
        "model = Sequential([\n",
        "    Embedding(vocab_size, 300, weights=[embedding_matrix], input_length=MAX_LEN, trainable=True),\n",
        "    SpatialDropout1D(0.3),\n",
        "    Bidirectional(LSTM(256, return_sequences=True, kernel_regularizer=l2(0.01))),\n",
        "    BatchNormalization(),  # Helps escape local minima\n",
        "    Bidirectional(LSTM(64, kernel_regularizer=l2(0.01))),\n",
        "    Dense(6, activation='softmax')\n",
        "    ])\n",
        "# Train the model\n",
        "\n",
        "model.compile(\n",
        "        optimizer=tf.keras.optimizers.Adam(learning_rate=0.001),\n",
        "        loss=tf.keras.losses.CategoricalCrossentropy(),\n",
        "        metrics=[\n",
        "            'accuracy',\n",
        "            tf.keras.metrics.Precision(name='precision'),\n",
        "            tf.keras.metrics.Recall(name='recall'),\n",
        "            tf.keras.metrics.AUC(name='auc', multi_label=True)\n",
        "        ]\n",
        "    )\n",
        "\n",
        "def prepare_test_data(test_data):\n",
        "    # Convert to numpy arrays\n",
        "    X_test = np.array(test_data['input_ids'])  # Using already tokenized input_ids\n",
        "    y_test = np.array(test_data['label'])  # Original labels\n",
        "\n",
        "    # One-hot encode labels\n",
        "    y_test = to_categorical(y_test, num_classes=num_classes)\n",
        "\n",
        "    return X_test, y_test\n",
        "\n",
        "X_train, y_train = prepare_test_data(data['train'])\n",
        "X_val, y_val = prepare_test_data(data['validation'])\n",
        "early_stopping = EarlyStopping(\n",
        "    monitor='val_loss',     # Monitor validation loss\n",
        "    patience=3,            # Number of epochs with no improvement before stopping\n",
        "    restore_best_weights=True,  # Restore model weights from the epoch with best val_loss\n",
        "    verbose=1              # Show messages when stopping\n",
        ")\n",
        "history = model.fit(X_train, y_train, validation_data=(X_val, y_val), epochs=5, batch_size=32, class_weight=class_weights, callbacks=[early_stopping], verbose=1)\n",
        "\n"
      ],
      "metadata": {
        "colab": {
          "base_uri": "https://localhost:8080/"
        },
        "id": "maLGbtX7UB_x",
        "outputId": "adc03595-f87b-41fa-96ee-4e455d6c82c5"
      },
      "execution_count": null,
      "outputs": [
        {
          "output_type": "stream",
          "name": "stderr",
          "text": [
            "/usr/local/lib/python3.11/dist-packages/keras/src/layers/core/embedding.py:90: UserWarning: Argument `input_length` is deprecated. Just remove it.\n",
            "  warnings.warn(\n"
          ]
        },
        {
          "output_type": "stream",
          "name": "stdout",
          "text": [
            "Epoch 1/10\n",
            "\u001b[1m500/500\u001b[0m \u001b[32m━━━━━━━━━━━━━━━━━━━━\u001b[0m\u001b[37m\u001b[0m \u001b[1m368s\u001b[0m 718ms/step - accuracy: 0.2468 - auc: 0.6371 - loss: 6.3682 - precision: 0.3399 - recall: 0.0270 - val_accuracy: 0.5530 - val_auc: 0.9500 - val_loss: 1.4035 - val_precision: 0.5922 - val_recall: 0.4270\n",
            "Epoch 2/10\n",
            "\u001b[1m500/500\u001b[0m \u001b[32m━━━━━━━━━━━━━━━━━━━━\u001b[0m\u001b[37m\u001b[0m \u001b[1m391s\u001b[0m 736ms/step - accuracy: 0.8092 - auc: 0.9721 - loss: 0.8833 - precision: 0.8405 - recall: 0.7685 - val_accuracy: 0.8900 - val_auc: 0.9901 - val_loss: 0.6037 - val_precision: 0.9203 - val_recall: 0.8545\n",
            "Epoch 3/10\n",
            "\u001b[1m500/500\u001b[0m \u001b[32m━━━━━━━━━━━━━━━━━━━━\u001b[0m\u001b[37m\u001b[0m \u001b[1m349s\u001b[0m 697ms/step - accuracy: 0.9022 - auc: 0.9899 - loss: 0.5239 - precision: 0.9140 - recall: 0.8925 - val_accuracy: 0.9160 - val_auc: 0.9945 - val_loss: 0.4670 - val_precision: 0.9258 - val_recall: 0.9105\n",
            "Epoch 4/10\n",
            "\u001b[1m500/500\u001b[0m \u001b[32m━━━━━━━━━━━━━━━━━━━━\u001b[0m\u001b[37m\u001b[0m \u001b[1m370s\u001b[0m 674ms/step - accuracy: 0.9245 - auc: 0.9938 - loss: 0.3937 - precision: 0.9304 - recall: 0.9193 - val_accuracy: 0.9285 - val_auc: 0.9965 - val_loss: 0.3527 - val_precision: 0.9306 - val_recall: 0.9255\n",
            "Epoch 5/10\n",
            "\u001b[1m500/500\u001b[0m \u001b[32m━━━━━━━━━━━━━━━━━━━━\u001b[0m\u001b[37m\u001b[0m \u001b[1m386s\u001b[0m 683ms/step - accuracy: 0.9267 - auc: 0.9956 - loss: 0.3396 - precision: 0.9305 - recall: 0.9227 - val_accuracy: 0.9255 - val_auc: 0.9959 - val_loss: 0.3560 - val_precision: 0.9311 - val_recall: 0.9195\n",
            "Epoch 6/10\n",
            "\u001b[1m500/500\u001b[0m \u001b[32m━━━━━━━━━━━━━━━━━━━━\u001b[0m\u001b[37m\u001b[0m \u001b[1m400s\u001b[0m 719ms/step - accuracy: 0.9342 - auc: 0.9963 - loss: 0.3130 - precision: 0.9395 - recall: 0.9317 - val_accuracy: 0.9145 - val_auc: 0.9957 - val_loss: 0.3980 - val_precision: 0.9200 - val_recall: 0.9090\n",
            "Epoch 7/10\n",
            "\u001b[1m500/500\u001b[0m \u001b[32m━━━━━━━━━━━━━━━━━━━━\u001b[0m\u001b[37m\u001b[0m \u001b[1m337s\u001b[0m 674ms/step - accuracy: 0.9415 - auc: 0.9974 - loss: 0.2766 - precision: 0.9439 - recall: 0.9380 - val_accuracy: 0.9255 - val_auc: 0.9966 - val_loss: 0.3709 - val_precision: 0.9314 - val_recall: 0.9170\n",
            "Epoch 7: early stopping\n",
            "Restoring model weights from the end of the best epoch: 4.\n"
          ]
        }
      ]
    },
    {
      "cell_type": "code",
      "source": [
        "\n",
        "# Plotting training and validation loss\n",
        "plt.plot(history.history['loss'], label = 'Training Loss')\n",
        "plt.plot(history.history['val_loss'], label = 'Validation Loss')\n",
        "plt.title('Training and Validation Loss')\n",
        "plt.xlabel('Epochs')\n",
        "plt.ylabel('Loss')\n",
        "plt.legend()\n",
        "plt.show()\n"
      ],
      "metadata": {
        "id": "KfSXKDSDUcW5",
        "colab": {
          "base_uri": "https://localhost:8080/",
          "height": 472
        },
        "outputId": "6ac1a3f0-a0d3-4496-f029-fbbc9a0057dc"
      },
      "execution_count": null,
      "outputs": [
        {
          "output_type": "display_data",
          "data": {
            "text/plain": [
              "<Figure size 640x480 with 1 Axes>"
            ],
            "image/png": "[encoded data removed]"
          },
          "metadata": {}
        }
      ]
    },
    {
      "cell_type": "code",
      "source": [
        "# Evaluate the performance\n",
        "\n",
        "# Prepare test data\n",
        "X_test, y_test = prepare_test_data(data['test'])\n",
        "\n",
        "# Evaluate model performance\n",
        "def evaluate_model(model, X_test, y_test):\n",
        "    # Evaluate metrics\n",
        "    loss, accuracy, precision, recall, auc = model.evaluate(X_test, y_test, verbose=0)\n",
        "\n",
        "    print(\"\\nTest Metrics:\")\n",
        "    print(f\"Loss: {loss:.4f}\")\n",
        "    print(f\"Accuracy: {accuracy:.4f}\")\n",
        "    print(f\"Precision: {precision:.4f}\")\n",
        "    print(f\"Recall: {recall:.4f}\")\n",
        "    print(f\"AUC: {auc:.4f}\")\n",
        "\n",
        "    # Generate predictions\n",
        "    y_pred = model.predict(X_test)\n",
        "    y_pred_classes = np.argmax(y_pred, axis=1)\n",
        "    y_test_classes = np.argmax(y_test, axis=1)\n",
        "\n",
        "    # Classification report\n",
        "    print(\"\\nClassification Report:\")\n",
        "    print(classification_report(y_test_classes, y_pred_classes,\n",
        "                              target_names=['sadness', 'joy', 'love', 'anger', 'fear', 'surprise']))\n",
        "\n",
        "    # Confusion matrix\n",
        "    np.save('y_true.npy', y_test_classes)\n",
        "    np.save('y_pred.npy', y_pred)\n",
        "    y_true = np.load('y_true.npy')\n",
        "    y_pred = np.load('y_pred.npy')\n",
        "    cm = confusion_matrix(y_test_classes, y_pred_classes)\n",
        "    print(cm)\n",
        "    labels_names = data['train'].features['label'].names  # ['sadness', 'joy', ..., 'anger']\n",
        "\n",
        "    plt.figure(figsize=(8,6))\n",
        "    sns.heatmap(cm, annot=True, fmt='d', cmap='Blues',\n",
        "                xticklabels=labels_names, yticklabels=labels_names)\n",
        "    plt.xlabel('Predicted')\n",
        "    plt.ylabel('True')\n",
        "    plt.title('Confusion Matrix')\n",
        "    plt.show()\n",
        "\n",
        "\n",
        "    return y_pred\n",
        "\n",
        "# Run evaluation\n",
        "y_pred = evaluate_model(model, X_test, y_test)\n",
        "\n",
        "# Run evaluation\n",
        "y_pred = evaluate_model(model, X_test, y_test)"
      ],
      "metadata": {
        "id": "cfU3sMonUiQj",
        "colab": {
          "base_uri": "https://localhost:8080/",
          "height": 1000
        },
        "outputId": "7af63115-4138-415a-be33-c643a7bf46ad"
      },
      "execution_count": null,
      "outputs": [
        {
          "output_type": "stream",
          "name": "stdout",
          "text": [
            "\n",
            "Test Metrics:\n",
            "Loss: 0.3854\n",
            "Accuracy: 0.9155\n",
            "Precision: 0.9184\n",
            "Recall: 0.9115\n",
            "AUC: 0.9951\n",
            "\u001b[1m63/63\u001b[0m \u001b[32m━━━━━━━━━━━━━━━━━━━━\u001b[0m\u001b[37m\u001b[0m \u001b[1m10s\u001b[0m 158ms/step\n",
            "\n",
            "Classification Report:\n",
            "              precision    recall  f1-score   support\n",
            "\n",
            "     sadness       1.00      0.92      0.96       581\n",
            "         joy       0.98      0.90      0.94       695\n",
            "        love       0.75      0.95      0.84       159\n",
            "       anger       0.89      0.95      0.92       275\n",
            "        fear       0.85      0.85      0.85       224\n",
            "    surprise       0.60      1.00      0.75        66\n",
            "\n",
            "    accuracy                           0.92      2000\n",
            "   macro avg       0.85      0.93      0.88      2000\n",
            "weighted avg       0.93      0.92      0.92      2000\n",
            "\n",
            "[[536   2   0  25  13   5]\n",
            " [  0 627  50   0   6  12]\n",
            " [  0   8 151   0   0   0]\n",
            " [  0   1   0 260  14   0]\n",
            " [  0   0   0   6 191  27]\n",
            " [  0   0   0   0   0  66]]\n"
          ]
        },
        {
          "output_type": "display_data",
          "data": {
            "text/plain": [
              "<Figure size 800x600 with 2 Axes>"
            ],
            "image/png": "[encoded data removed]"
          },
          "metadata": {}
        },
        {
          "output_type": "stream",
          "name": "stdout",
          "text": [
            "\n",
            "Test Metrics:\n",
            "Loss: 0.3854\n",
            "Accuracy: 0.9155\n",
            "Precision: 0.9184\n",
            "Recall: 0.9115\n",
            "AUC: 0.9951\n",
            "\u001b[1m63/63\u001b[0m \u001b[32m━━━━━━━━━━━━━━━━━━━━\u001b[0m\u001b[37m\u001b[0m \u001b[1m8s\u001b[0m 131ms/step\n",
            "\n",
            "Classification Report:\n",
            "              precision    recall  f1-score   support\n",
            "\n",
            "     sadness       1.00      0.92      0.96       581\n",
            "         joy       0.98      0.90      0.94       695\n",
            "        love       0.75      0.95      0.84       159\n",
            "       anger       0.89      0.95      0.92       275\n",
            "        fear       0.85      0.85      0.85       224\n",
            "    surprise       0.60      1.00      0.75        66\n",
            "\n",
            "    accuracy                           0.92      2000\n",
            "   macro avg       0.85      0.93      0.88      2000\n",
            "weighted avg       0.93      0.92      0.92      2000\n",
            "\n",
            "[[536   2   0  25  13   5]\n",
            " [  0 627  50   0   6  12]\n",
            " [  0   8 151   0   0   0]\n",
            " [  0   1   0 260  14   0]\n",
            " [  0   0   0   6 191  27]\n",
            " [  0   0   0   0   0  66]]\n"
          ]
        },
        {
          "output_type": "display_data",
          "data": {
            "text/plain": [
              "<Figure size 800x600 with 2 Axes>"
            ],
            "image/png": "[encoded data removed]"
          },
          "metadata": {}
        }
      ]
    }
  ]
}
