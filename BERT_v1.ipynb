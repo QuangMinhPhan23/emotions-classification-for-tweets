{
  "metadata": {
    "kernelspec": {
      "display_name": "Python 3",
      "name": "python3"
    },
    "language_info": {
      "name": "python",
      "version": "3.10.12",
      "mimetype": "text/x-python",
      "codemirror_mode": {
        "name": "ipython",
        "version": 3
      },
      "pygments_lexer": "ipython3",
      "nbconvert_exporter": "python",
      "file_extension": ".py"
    },
    "kaggle": {
      "accelerator": "nvidiaTeslaT4",
      "dataSources": [],
      "dockerImageVersionId": 30559,
      "isInternetEnabled": true,
      "language": "python",
      "sourceType": "notebook",
      "isGpuEnabled": true
    },
    "colab": {
      "provenance": [],
      "gpuType": "T4",
      "include_colab_link": true
    },
    "accelerator": "GPU"
  },
  "nbformat_minor": 0,
  "nbformat": 4,
  "cells": [
    {
      "cell_type": "markdown",
      "metadata": {
        "id": "view-in-github",
        "colab_type": "text"
      },
      "source": [
        "<a href=\"https://colab.research.google.com/github/QuangMinhPhan23/emotions-classification-for-tweets/blob/main/BERT_v1.ipynb\" target=\"_parent\"><img src=\"https://colab.research.google.com/assets/colab-badge.svg\" alt=\"Open In Colab\"/></a>"
      ]
    },
    {
      "cell_type": "markdown",
      "source": [
        "# <b><div style='padding:15px;background-color:#850E35;color:white;border-radius:2px;font-size:110%;text-align: center'>1. Introduction, Motivation and Problem Statement </div></b>\n",
        "\n",
        "The purpose of this project is to fine‑tune a pretrained Transformer‑based language model, DistilBERT, for the task of **emotion classification**.  \n",
        "Given an English text input, the system predicts one of six emotions:  \n",
        "`sadness`, `joy`, `love`, `anger`, `fear`, or `surprise`.\n",
        "\n",
        "Emotion analysis is an important task for applications such as:\n",
        "- Sentiment monitoring on social media\n",
        "- Enhancing conversational agents\n",
        "- Understanding human emotional states in text\n",
        "\n",
        "This project leverages transfer learning to achieve good performance on this task with limited computational resources. This project is run on Google Colab, parameters are adjusted to fit the memory of Google Colab."
      ],
      "metadata": {
        "id": "mslT3aI9FgEk"
      }
    },
    {
      "cell_type": "code",
      "source": [
        "from huggingface_hub import notebook_login\n",
        "notebook_login()"
      ],
      "metadata": {
        "id": "E5RPpBeCjqKX",
        "colab": {
          "base_uri": "https://localhost:8080/",
          "height": 17,
          "referenced_widgets": [
            "7898fa33f0c64bc493d15461e3ed4a74",
            "f88f375d68dd45efa02b474e074ec05c",
            "b82898e980be43378c5bea63390555c2",
            "57e925c5cee04e888d39e101256dcb0a",
            "bcc31e7dc2814e01af61f416a99b7c7f",
            "122f06062bec4221a1ccc8073cf20634",
            "3f94c774f151411ba0a6ba46e555d9dd",
            "c695bd93983e4ce2828dd1d36d6a0582",
            "e534c02f290b402ebe09448daa10ca85",
            "5b46623a394244acb3ff565b2d64ab2b",
            "17f60d965a3e461f8a28e9cb25e4eb44",
            "9598d724295e405883477809e8e5b078",
            "21f10a6359594ffd802e1ea250d15ba2",
            "0b5b450bf5124eb789cdfdaee7a05b24",
            "9c9114f1237346df9e42358c6aea9e0f",
            "a5db8997fbe24fd6bbefdafb5e419eee",
            "c291889d0cee45f0a2d7ee1d851d7e83",
            "4333f22af2904b95a2b921dd63971c14",
            "718ab384b51745b19e142944fdfd61ca",
            "bd1a9ac3cf6f45d2ad8a3f819d1e8201"
          ]
        },
        "outputId": "6111c5da-4a2a-4434-e29d-8d2e09a45269"
      },
      "execution_count": null,
      "outputs": [
        {
          "output_type": "display_data",
          "data": {
            "text/plain": [
              "VBox(children=(HTML(value='<center> <img\\nsrc=https://huggingface.co/front/assets/huggingface_logo-noborder.sv…"
            ],
            "application/vnd.jupyter.widget-view+json": {
              "version_major": 2,
              "version_minor": 0,
              "model_id": "7898fa33f0c64bc493d15461e3ed4a74"
            }
          },
          "metadata": {}
        }
      ]
    },
    {
      "cell_type": "code",
      "source": [
        "import numpy as np\n",
        "import random\n",
        "import tensorflow as tf\n",
        "\n",
        "seed = 42\n",
        "np.random.seed(seed)\n",
        "random.seed(seed)\n",
        "tf.random.set_seed(seed)\n",
        "\n",
        "from transformers import set_seed\n",
        "set_seed(seed)"
      ],
      "metadata": {
        "id": "LHQn0AV0juMd"
      },
      "execution_count": null,
      "outputs": []
    },
    {
      "cell_type": "markdown",
      "source": [
        "# <b><div style='padding:15px;background-color:#850E35;color:white;border-radius:2px;font-size:110%;text-align: center'>2. Data Sources </div></b>\n",
        "\n",
        "We use the **[`dair‑ai/emotion`](https://huggingface.co/datasets/dair-ai/emotion)** dataset hosted on HuggingFace.  \n",
        "Key properties of the dataset:\n",
        "- Source: HuggingFace Datasets\n",
        "- Size: ~20,000 English text samples\n",
        "- Splits: `train`, `validation`, and `test`\n",
        "- Each example: a short sentence and its annotated emotion label\n",
        "- Task: supervised multi‑class classification (6 classes)\n"
      ],
      "metadata": {
        "id": "UMLkjmzRecm_"
      }
    },
    {
      "cell_type": "code",
      "source": [
        "!pip install -q -U datasets\n"
      ],
      "metadata": {
        "id": "yGtQdfnjjv9w"
      },
      "execution_count": null,
      "outputs": []
    },
    {
      "cell_type": "code",
      "source": [
        "from datasets import load_dataset\n",
        "emotions = load_dataset(\"dair-ai/emotion\")"
      ],
      "metadata": {
        "id": "Tfbc3EbNjyDs",
        "colab": {
          "base_uri": "https://localhost:8080/"
        },
        "outputId": "62394aaf-b00e-4335-bbc7-6427c31833c1"
      },
      "execution_count": null,
      "outputs": [
        {
          "output_type": "stream",
          "name": "stderr",
          "text": [
            "/usr/local/lib/python3.11/dist-packages/huggingface_hub/utils/_auth.py:94: UserWarning: \n",
            "The secret `HF_TOKEN` does not exist in your Colab secrets.\n",
            "To authenticate with the Hugging Face Hub, create a token in your settings tab (https://huggingface.co/settings/tokens), set it as secret in your Google Colab and restart your session.\n",
            "You will be able to reuse this secret in all of your notebooks.\n",
            "Please note that authentication is recommended but still optional to access public models or datasets.\n",
            "  warnings.warn(\n"
          ]
        }
      ]
    },
    {
      "cell_type": "markdown",
      "source": [
        "\n",
        "\n",
        "> Add blockquote\n",
        "\n",
        "\n",
        "\n",
        "# <b><div style='padding:15px;background-color:#850E35;color:white;border-radius:2px;font-size:110%;text-align: center'>3. Exploratory Analysis of the Data </div></b>\n",
        "\n"
      ],
      "metadata": {
        "id": "t_TfwRzYhWLB"
      }
    },
    {
      "cell_type": "markdown",
      "source": [
        "The dataset has the following characteristics:\n",
        "- **Number of classes:** 6\n",
        "  - `sadness`, `joy`, `love`, `anger`, `fear`, `surprise`\n",
        "- **Size:**\n",
        "  - Training: ~16,000 examples\n",
        "  - Validation: ~2,000 examples\n",
        "  - Test: ~2,000 examples"
      ],
      "metadata": {
        "id": "tXaD9YLLhg0b"
      }
    },
    {
      "cell_type": "markdown",
      "source": [
        "Each example is a short sentence (`text`) paired with a label (`label`) corresponding to one of the emotions above.\n",
        "\n",
        "### Class Distribution\n",
        "The distribution of classes is imbalanced.  \n",
        "From the figures, we observe:\n",
        "- Majority classes: *(joy)*\n",
        "- Minority classes: *(surprise)*\n",
        "\n",
        "### Sentence Length\n",
        "Sentences in the dataset are relatively short, with most being around *(5-20 words)*."
      ],
      "metadata": {
        "id": "fkJhP0JEhh81"
      }
    },
    {
      "cell_type": "markdown",
      "source": [
        "### Data Preprocessing\n",
        "\n",
        "  - Tokenization using DistilBERT’s tokenizer\n",
        "  - Truncation to model max length\n",
        "  - Dynamic padding to batch maximum using `DataCollatorWithPadding`"
      ],
      "metadata": {
        "id": "hl9Nji-Mh3m3"
      }
    },
    {
      "cell_type": "code",
      "source": [
        "emotions\n",
        "emotions[\"train\"][0]\n",
        "emotions[\"train\"].column_names\n",
        "emotions[\"train\"].features"
      ],
      "metadata": {
        "execution": {
          "iopub.status.busy": "2023-12-17T20:31:29.915935Z",
          "iopub.execute_input": "2023-12-17T20:31:29.916278Z",
          "iopub.status.idle": "2023-12-17T20:31:29.923116Z",
          "shell.execute_reply.started": "2023-12-17T20:31:29.91625Z",
          "shell.execute_reply": "2023-12-17T20:31:29.922158Z"
        },
        "trusted": true,
        "id": "zC7bDXKlFgEk",
        "colab": {
          "base_uri": "https://localhost:8080/"
        },
        "outputId": "9f693a9d-c24b-472d-9baa-fd30c26bf539"
      },
      "execution_count": null,
      "outputs": [
        {
          "output_type": "execute_result",
          "data": {
            "text/plain": [
              "{'text': Value('string'),\n",
              " 'label': ClassLabel(names=['sadness', 'joy', 'love', 'anger', 'fear', 'surprise'])}"
            ]
          },
          "metadata": {},
          "execution_count": 5
        }
      ]
    },
    {
      "cell_type": "code",
      "source": [
        "import pandas as pd\n",
        "import seaborn as sns\n",
        "import matplotlib.pyplot as plt\n",
        "\n",
        "# Load train set into DataFrame\n",
        "df_train = pd.DataFrame(emotions[\"train\"])\n",
        "\n",
        "# Map labels to class names\n",
        "df_train['label_name'] = df_train['label'].map(\n",
        "    lambda x: emotions['train'].features['label'].int2str(x)\n",
        ")\n",
        "\n",
        "# Show first few examples\n",
        "df_train.head()"
      ],
      "metadata": {
        "id": "2UW0QgbfkBxM",
        "colab": {
          "base_uri": "https://localhost:8080/",
          "height": 206
        },
        "outputId": "3a9566e3-d6d0-4afd-c1fd-16215a2b9121"
      },
      "execution_count": null,
      "outputs": [
        {
          "output_type": "execute_result",
          "data": {
            "text/plain": [
              "                                                text  label label_name\n",
              "0                            i didnt feel humiliated      0    sadness\n",
              "1  i can go from feeling so hopeless to so damned...      0    sadness\n",
              "2   im grabbing a minute to post i feel greedy wrong      3      anger\n",
              "3  i am ever feeling nostalgic about the fireplac...      2       love\n",
              "4                               i am feeling grouchy      3      anger"
            ],
            "text/html": [
              "\n",
              "  <div id=\"df-b07765b6-f950-41e9-a0f8-4ffaba4c5ff6\" class=\"colab-df-container\">\n",
              "    <div>\n",
              "<style scoped>\n",
              "    .dataframe tbody tr th:only-of-type {\n",
              "        vertical-align: middle;\n",
              "    }\n",
              "\n",
              "    .dataframe tbody tr th {\n",
              "        vertical-align: top;\n",
              "    }\n",
              "\n",
              "    .dataframe thead th {\n",
              "        text-align: right;\n",
              "    }\n",
              "</style>\n",
              "<table border=\"1\" class=\"dataframe\">\n",
              "  <thead>\n",
              "    <tr style=\"text-align: right;\">\n",
              "      <th></th>\n",
              "      <th>text</th>\n",
              "      <th>label</th>\n",
              "      <th>label_name</th>\n",
              "    </tr>\n",
              "  </thead>\n",
              "  <tbody>\n",
              "    <tr>\n",
              "      <th>0</th>\n",
              "      <td>i didnt feel humiliated</td>\n",
              "      <td>0</td>\n",
              "      <td>sadness</td>\n",
              "    </tr>\n",
              "    <tr>\n",
              "      <th>1</th>\n",
              "      <td>i can go from feeling so hopeless to so damned...</td>\n",
              "      <td>0</td>\n",
              "      <td>sadness</td>\n",
              "    </tr>\n",
              "    <tr>\n",
              "      <th>2</th>\n",
              "      <td>im grabbing a minute to post i feel greedy wrong</td>\n",
              "      <td>3</td>\n",
              "      <td>anger</td>\n",
              "    </tr>\n",
              "    <tr>\n",
              "      <th>3</th>\n",
              "      <td>i am ever feeling nostalgic about the fireplac...</td>\n",
              "      <td>2</td>\n",
              "      <td>love</td>\n",
              "    </tr>\n",
              "    <tr>\n",
              "      <th>4</th>\n",
              "      <td>i am feeling grouchy</td>\n",
              "      <td>3</td>\n",
              "      <td>anger</td>\n",
              "    </tr>\n",
              "  </tbody>\n",
              "</table>\n",
              "</div>\n",
              "    <div class=\"colab-df-buttons\">\n",
              "\n",
              "  <div class=\"colab-df-container\">\n",
              "    <button class=\"colab-df-convert\" onclick=\"convertToInteractive('df-b07765b6-f950-41e9-a0f8-4ffaba4c5ff6')\"\n",
              "            title=\"Convert this dataframe to an interactive table.\"\n",
              "            style=\"display:none;\">\n",
              "\n",
              "  <svg xmlns=\"http://www.w3.org/2000/svg\" height=\"24px\" viewBox=\"0 -960 960 960\">\n",
              "    <path d=\"M120-120v-720h720v720H120Zm60-500h600v-160H180v160Zm220 220h160v-160H400v160Zm0 220h160v-160H400v160ZM180-400h160v-160H180v160Zm440 0h160v-160H620v160ZM180-180h160v-160H180v160Zm440 0h160v-160H620v160Z\"/>\n",
              "  </svg>\n",
              "    </button>\n",
              "\n",
              "  <style>\n",
              "    .colab-df-container {\n",
              "      display:flex;\n",
              "      gap: 12px;\n",
              "    }\n",
              "\n",
              "    .colab-df-convert {\n",
              "      background-color: #E8F0FE;\n",
              "      border: none;\n",
              "      border-radius: 50%;\n",
              "      cursor: pointer;\n",
              "      display: none;\n",
              "      fill: #1967D2;\n",
              "      height: 32px;\n",
              "      padding: 0 0 0 0;\n",
              "      width: 32px;\n",
              "    }\n",
              "\n",
              "    .colab-df-convert:hover {\n",
              "      background-color: #E2EBFA;\n",
              "      box-shadow: 0px 1px 2px rgba(60, 64, 67, 0.3), 0px 1px 3px 1px rgba(60, 64, 67, 0.15);\n",
              "      fill: #174EA6;\n",
              "    }\n",
              "\n",
              "    .colab-df-buttons div {\n",
              "      margin-bottom: 4px;\n",
              "    }\n",
              "\n",
              "    [theme=dark] .colab-df-convert {\n",
              "      background-color: #3B4455;\n",
              "      fill: #D2E3FC;\n",
              "    }\n",
              "\n",
              "    [theme=dark] .colab-df-convert:hover {\n",
              "      background-color: #434B5C;\n",
              "      box-shadow: 0px 1px 3px 1px rgba(0, 0, 0, 0.15);\n",
              "      filter: drop-shadow(0px 1px 2px rgba(0, 0, 0, 0.3));\n",
              "      fill: #FFFFFF;\n",
              "    }\n",
              "  </style>\n",
              "\n",
              "    <script>\n",
              "      const buttonEl =\n",
              "        document.querySelector('#df-b07765b6-f950-41e9-a0f8-4ffaba4c5ff6 button.colab-df-convert');\n",
              "      buttonEl.style.display =\n",
              "        google.colab.kernel.accessAllowed ? 'block' : 'none';\n",
              "\n",
              "      async function convertToInteractive(key) {\n",
              "        const element = document.querySelector('#df-b07765b6-f950-41e9-a0f8-4ffaba4c5ff6');\n",
              "        const dataTable =\n",
              "          await google.colab.kernel.invokeFunction('convertToInteractive',\n",
              "                                                    [key], {});\n",
              "        if (!dataTable) return;\n",
              "\n",
              "        const docLinkHtml = 'Like what you see? Visit the ' +\n",
              "          '<a target=\"_blank\" href=https://colab.research.google.com/notebooks/data_table.ipynb>data table notebook</a>'\n",
              "          + ' to learn more about interactive tables.';\n",
              "        element.innerHTML = '';\n",
              "        dataTable['output_type'] = 'display_data';\n",
              "        await google.colab.output.renderOutput(dataTable, element);\n",
              "        const docLink = document.createElement('div');\n",
              "        docLink.innerHTML = docLinkHtml;\n",
              "        element.appendChild(docLink);\n",
              "      }\n",
              "    </script>\n",
              "  </div>\n",
              "\n",
              "\n",
              "    <div id=\"df-cc0af6c7-ec92-4c10-acbc-f154f994249a\">\n",
              "      <button class=\"colab-df-quickchart\" onclick=\"quickchart('df-cc0af6c7-ec92-4c10-acbc-f154f994249a')\"\n",
              "                title=\"Suggest charts\"\n",
              "                style=\"display:none;\">\n",
              "\n",
              "<svg xmlns=\"http://www.w3.org/2000/svg\" height=\"24px\"viewBox=\"0 0 24 24\"\n",
              "     width=\"24px\">\n",
              "    <g>\n",
              "        <path d=\"M19 3H5c-1.1 0-2 .9-2 2v14c0 1.1.9 2 2 2h14c1.1 0 2-.9 2-2V5c0-1.1-.9-2-2-2zM9 17H7v-7h2v7zm4 0h-2V7h2v10zm4 0h-2v-4h2v4z\"/>\n",
              "    </g>\n",
              "</svg>\n",
              "      </button>\n",
              "\n",
              "<style>\n",
              "  .colab-df-quickchart {\n",
              "      --bg-color: #E8F0FE;\n",
              "      --fill-color: #1967D2;\n",
              "      --hover-bg-color: #E2EBFA;\n",
              "      --hover-fill-color: #174EA6;\n",
              "      --disabled-fill-color: #AAA;\n",
              "      --disabled-bg-color: #DDD;\n",
              "  }\n",
              "\n",
              "  [theme=dark] .colab-df-quickchart {\n",
              "      --bg-color: #3B4455;\n",
              "      --fill-color: #D2E3FC;\n",
              "      --hover-bg-color: #434B5C;\n",
              "      --hover-fill-color: #FFFFFF;\n",
              "      --disabled-bg-color: #3B4455;\n",
              "      --disabled-fill-color: #666;\n",
              "  }\n",
              "\n",
              "  .colab-df-quickchart {\n",
              "    background-color: var(--bg-color);\n",
              "    border: none;\n",
              "    border-radius: 50%;\n",
              "    cursor: pointer;\n",
              "    display: none;\n",
              "    fill: var(--fill-color);\n",
              "    height: 32px;\n",
              "    padding: 0;\n",
              "    width: 32px;\n",
              "  }\n",
              "\n",
              "  .colab-df-quickchart:hover {\n",
              "    background-color: var(--hover-bg-color);\n",
              "    box-shadow: 0 1px 2px rgba(60, 64, 67, 0.3), 0 1px 3px 1px rgba(60, 64, 67, 0.15);\n",
              "    fill: var(--button-hover-fill-color);\n",
              "  }\n",
              "\n",
              "  .colab-df-quickchart-complete:disabled,\n",
              "  .colab-df-quickchart-complete:disabled:hover {\n",
              "    background-color: var(--disabled-bg-color);\n",
              "    fill: var(--disabled-fill-color);\n",
              "    box-shadow: none;\n",
              "  }\n",
              "\n",
              "  .colab-df-spinner {\n",
              "    border: 2px solid var(--fill-color);\n",
              "    border-color: transparent;\n",
              "    border-bottom-color: var(--fill-color);\n",
              "    animation:\n",
              "      spin 1s steps(1) infinite;\n",
              "  }\n",
              "\n",
              "  @keyframes spin {\n",
              "    0% {\n",
              "      border-color: transparent;\n",
              "      border-bottom-color: var(--fill-color);\n",
              "      border-left-color: var(--fill-color);\n",
              "    }\n",
              "    20% {\n",
              "      border-color: transparent;\n",
              "      border-left-color: var(--fill-color);\n",
              "      border-top-color: var(--fill-color);\n",
              "    }\n",
              "    30% {\n",
              "      border-color: transparent;\n",
              "      border-left-color: var(--fill-color);\n",
              "      border-top-color: var(--fill-color);\n",
              "      border-right-color: var(--fill-color);\n",
              "    }\n",
              "    40% {\n",
              "      border-color: transparent;\n",
              "      border-right-color: var(--fill-color);\n",
              "      border-top-color: var(--fill-color);\n",
              "    }\n",
              "    60% {\n",
              "      border-color: transparent;\n",
              "      border-right-color: var(--fill-color);\n",
              "    }\n",
              "    80% {\n",
              "      border-color: transparent;\n",
              "      border-right-color: var(--fill-color);\n",
              "      border-bottom-color: var(--fill-color);\n",
              "    }\n",
              "    90% {\n",
              "      border-color: transparent;\n",
              "      border-bottom-color: var(--fill-color);\n",
              "    }\n",
              "  }\n",
              "</style>\n",
              "\n",
              "      <script>\n",
              "        async function quickchart(key) {\n",
              "          const quickchartButtonEl =\n",
              "            document.querySelector('#' + key + ' button');\n",
              "          quickchartButtonEl.disabled = true;  // To prevent multiple clicks.\n",
              "          quickchartButtonEl.classList.add('colab-df-spinner');\n",
              "          try {\n",
              "            const charts = await google.colab.kernel.invokeFunction(\n",
              "                'suggestCharts', [key], {});\n",
              "          } catch (error) {\n",
              "            console.error('Error during call to suggestCharts:', error);\n",
              "          }\n",
              "          quickchartButtonEl.classList.remove('colab-df-spinner');\n",
              "          quickchartButtonEl.classList.add('colab-df-quickchart-complete');\n",
              "        }\n",
              "        (() => {\n",
              "          let quickchartButtonEl =\n",
              "            document.querySelector('#df-cc0af6c7-ec92-4c10-acbc-f154f994249a button');\n",
              "          quickchartButtonEl.style.display =\n",
              "            google.colab.kernel.accessAllowed ? 'block' : 'none';\n",
              "        })();\n",
              "      </script>\n",
              "    </div>\n",
              "\n",
              "    </div>\n",
              "  </div>\n"
            ],
            "application/vnd.google.colaboratory.intrinsic+json": {
              "type": "dataframe",
              "variable_name": "df_train",
              "summary": "{\n  \"name\": \"df_train\",\n  \"rows\": 16000,\n  \"fields\": [\n    {\n      \"column\": \"text\",\n      \"properties\": {\n        \"dtype\": \"string\",\n        \"num_unique_values\": 15969,\n        \"samples\": [\n          \"i feel rather imbicilic or at least complacent\",\n          \"i was in the bathroom i had sat down to pee it was to make me feel submissive again per instructions\",\n          \"i am thrilled with the way my skin and hair feel if you are like me you are skeptical\"\n        ],\n        \"semantic_type\": \"\",\n        \"description\": \"\"\n      }\n    },\n    {\n      \"column\": \"label\",\n      \"properties\": {\n        \"dtype\": \"number\",\n        \"std\": 1,\n        \"min\": 0,\n        \"max\": 5,\n        \"num_unique_values\": 6,\n        \"samples\": [\n          0,\n          3,\n          1\n        ],\n        \"semantic_type\": \"\",\n        \"description\": \"\"\n      }\n    },\n    {\n      \"column\": \"label_name\",\n      \"properties\": {\n        \"dtype\": \"category\",\n        \"num_unique_values\": 6,\n        \"samples\": [\n          \"sadness\",\n          \"anger\",\n          \"joy\"\n        ],\n        \"semantic_type\": \"\",\n        \"description\": \"\"\n      }\n    }\n  ]\n}"
            }
          },
          "metadata": {},
          "execution_count": 6
        }
      ]
    },
    {
      "cell_type": "code",
      "source": [
        "def plot_class_distribution(dataset, split_name):\n",
        "    df = pd.DataFrame(dataset)\n",
        "    df['label_name'] = df['label'].map(\n",
        "        lambda x: emotions['train'].features['label'].int2str(x)\n",
        "    )\n",
        "    plt.figure(figsize=(8,4))\n",
        "    sns.countplot(x='label_name', data=df, order=df['label_name'].value_counts().index)\n",
        "    plt.title(f'Class Distribution in {split_name} Set')\n",
        "    plt.xlabel('Emotion')\n",
        "    plt.ylabel('Count')\n",
        "    plt.show()\n",
        "\n",
        "plot_class_distribution(emotions['train'], 'Train')\n",
        "plot_class_distribution(emotions['validation'], 'Validation')\n",
        "plot_class_distribution(emotions['test'], 'Test')"
      ],
      "metadata": {
        "id": "1jQ2NHI_kEu5",
        "colab": {
          "base_uri": "https://localhost:8080/",
          "height": 1000
        },
        "outputId": "d9808570-e3f0-4805-e200-8ef148a3588f"
      },
      "execution_count": null,
      "outputs": [
        {
          "output_type": "display_data",
          "data": {
            "text/plain": [
              "<Figure size 800x400 with 1 Axes>"
            ],
            "image/png": "[encoded data removed]"
          },
          "metadata": {}
        },
        {
          "output_type": "display_data",
          "data": {
            "text/plain": [
              "<Figure size 800x400 with 1 Axes>"
            ],
            "image/png": "[encoded data removed]"
          },
          "metadata": {}
        },
        {
          "output_type": "display_data",
          "data": {
            "text/plain": [
              "<Figure size 800x400 with 1 Axes>"
            ],
            "image/png": "[encoded data removed]"
          },
          "metadata": {}
        }
      ]
    },
    {
      "cell_type": "code",
      "source": [
        "df_train['text_length'] = df_train['text'].apply(lambda x: len(x.split()))\n",
        "\n",
        "plt.figure(figsize=(8,4))\n",
        "sns.histplot(df_train['text_length'], bins=30, kde=False)\n",
        "plt.title('Sentence Length Distribution (Train Set)')\n",
        "plt.xlabel('Number of Words')\n",
        "plt.ylabel('Frequency')\n",
        "plt.show()"
      ],
      "metadata": {
        "id": "423hPwQrkFhZ",
        "colab": {
          "base_uri": "https://localhost:8080/",
          "height": 410
        },
        "outputId": "25feaa3f-9a33-4552-b787-bcc69fa4a9e5"
      },
      "execution_count": null,
      "outputs": [
        {
          "output_type": "display_data",
          "data": {
            "text/plain": [
              "<Figure size 800x400 with 1 Axes>"
            ],
            "image/png": "[encoded data removed]"
          },
          "metadata": {}
        }
      ]
    },
    {
      "cell_type": "markdown",
      "source": [
        "# <b><div style='padding:15px;background-color:#850E35;color:white;border-radius:2px;font-size:110%;text-align: center'>4. Model and Methods </div></b>\n",
        "\n",
        "The approach leverages the HuggingFace Transformers library and TensorFlow/Keras to fine‑tune a pretrained **DistilBERT** model (`distilbert‑base‑uncased`).\n",
        "\n",
        "### Methodology:\n",
        "- Load pretrained DistilBERT with classification head (`TFAutoModelForSequenceClassification`) configured for 6 output classes.\n",
        "- Tokenize input text using DistilBERT tokenizer, with truncation and dynamic padding.\n",
        "- Prepare TensorFlow datasets for training and validation using `prepare_tf_dataset`.\n",
        "- Optimization:\n",
        "  - Optimizer: Adam (`learning_rate=5e‑5`)\n",
        "  - Batch size: 64\n",
        "  - Epochs: 2\n",
        "- Evaluation:\n",
        "  - During training using `KerasMetricCallback` and a custom `compute_metrics` function\n",
        "  - Metrics: accuracy, precision, recall, f1‑score (per class), confusion matrix\n",
        "  - Results pushed to HuggingFace Hub using `PushToHubCallback`\n",
        "\n",
        "The DistilBERT model was chosen for its balance of performance and computational efficiency, making it well‑suited for Colab‑scale resources."
      ],
      "metadata": {
        "id": "sFfzdjStFgEl"
      }
    },
    {
      "cell_type": "code",
      "source": [
        "from transformers import AutoTokenizer\n",
        "model_ckpt = \"distilbert-base-uncased\"\n",
        "tokenizer = AutoTokenizer.from_pretrained(model_ckpt)"
      ],
      "metadata": {
        "execution": {
          "iopub.status.busy": "2023-12-17T20:31:29.949811Z",
          "iopub.execute_input": "2023-12-17T20:31:29.950317Z",
          "iopub.status.idle": "2023-12-17T20:31:34.247529Z",
          "shell.execute_reply.started": "2023-12-17T20:31:29.950284Z",
          "shell.execute_reply": "2023-12-17T20:31:34.246752Z"
        },
        "trusted": true,
        "id": "vSnbq-WmFgEl"
      },
      "execution_count": null,
      "outputs": []
    },
    {
      "cell_type": "code",
      "source": [
        "def tokenize(batch):\n",
        "    \"\"\"\n",
        "    Tokenizes a batch of text batch using the pre-defined tokenizer.\n",
        "\n",
        "    Args:\n",
        "        batch (dict): A dictionary with a \"text\" key containing a list of strings.\n",
        "\n",
        "    Returns:\n",
        "        dict: A dictionary of tokenized inputs (input_ids, attention_mask, etc.).\n",
        "    \"\"\"\n",
        "    # Extract the list of text strings from the batch and tokenize them.\n",
        "    # truncation=True ensures that sequences longer than the model's max length are cut off.\n",
        "    return tokenizer(batch[\"text\"], truncation=True)"
      ],
      "metadata": {
        "execution": {
          "iopub.status.busy": "2023-12-17T20:31:34.248548Z",
          "iopub.execute_input": "2023-12-17T20:31:34.248949Z",
          "iopub.status.idle": "2023-12-17T20:31:34.253382Z",
          "shell.execute_reply.started": "2023-12-17T20:31:34.248925Z",
          "shell.execute_reply": "2023-12-17T20:31:34.252537Z"
        },
        "trusted": true,
        "id": "C74NST-NFgEl"
      },
      "execution_count": null,
      "outputs": []
    },
    {
      "cell_type": "code",
      "source": [
        "emotions_encoded = emotions.map(tokenize, batched=True, batch_size=None)"
      ],
      "metadata": {
        "execution": {
          "iopub.status.busy": "2023-12-17T20:31:34.254448Z",
          "iopub.execute_input": "2023-12-17T20:31:34.25474Z",
          "iopub.status.idle": "2023-12-17T20:31:35.672192Z",
          "shell.execute_reply.started": "2023-12-17T20:31:34.254715Z",
          "shell.execute_reply": "2023-12-17T20:31:35.671255Z"
        },
        "trusted": true,
        "id": "nblzcyibFgEl",
        "colab": {
          "base_uri": "https://localhost:8080/",
          "height": 113,
          "referenced_widgets": [
            "c673090809f9416eaefa3d4ddb4e8b55",
            "2113e50cf4924780848f077170c928d8",
            "f5ebe0f91c9e40fdb6febb33bad2cb53",
            "0cc4ef9da8bd4187910709c3f23f1b39",
            "f80ea6eec6704a9992a525b29627e02a",
            "0f28994f1bbb403c95b0dfd2460c1ed4",
            "da416b97e8bd46d799b33bb3eca0080a",
            "c0cb9c259853456198b1cfa7ce53e400",
            "d6499639776e41c38af10ec0e5d53003",
            "a16ab4ed4930427d9ce6e0dc3710e899",
            "9f9103a0956f4052ae3193cf77e2fdea",
            "cd85e9c913c94d11b532b352006cb2c0",
            "9fa6eb443dad431f8cf6f905b82c581c",
            "d3086dc7f23d456faf09f775351e6225",
            "d17537fed6ab49bda33f8f64da9a3417",
            "7d7aa0f626fc4bd8aad4452e19c85803",
            "5f694bbeb9924976b38467a9f0f72541",
            "1695fb2dfdaf4b6887073389f1d46b87",
            "0acfadf5ce074f4db07519fed1ad91f4",
            "f292bc4e80bb40faa3ba18149befba32",
            "a78144beb09d4a278319d50d616204a6",
            "1ef82eed85c948ffa24a737d48238adf",
            "d56cb1a762e84e9480d51bf28f4f15c1",
            "3b5fc377a99d4bcda85dd9b4bcb80b3b",
            "bb3b389018dd46299c9aab6cf5faed53",
            "38e6726ee3914ea9bcb0c764d0f5b1c9",
            "c1336bc809844d95b507b8a619966288",
            "d18e13a0312f4b23a80fcba872f25d0f",
            "2fadd9c97eed4e9b8e14ae767c21d584",
            "83e4630c913247338e72badf9c3d3057",
            "d507768f1c0b4c6988b2428a215d8782",
            "309fe4d5c2644326a02bb8ef5f6a8de0",
            "5211919ced31439da4314ab9bf2fd41d"
          ]
        },
        "outputId": "16d78494-559f-4814-af71-6cea0dffb562"
      },
      "execution_count": null,
      "outputs": [
        {
          "output_type": "display_data",
          "data": {
            "text/plain": [
              "Map:   0%|          | 0/16000 [00:00<?, ? examples/s]"
            ],
            "application/vnd.jupyter.widget-view+json": {
              "version_major": 2,
              "version_minor": 0,
              "model_id": "c673090809f9416eaefa3d4ddb4e8b55"
            }
          },
          "metadata": {}
        },
        {
          "output_type": "display_data",
          "data": {
            "text/plain": [
              "Map:   0%|          | 0/2000 [00:00<?, ? examples/s]"
            ],
            "application/vnd.jupyter.widget-view+json": {
              "version_major": 2,
              "version_minor": 0,
              "model_id": "cd85e9c913c94d11b532b352006cb2c0"
            }
          },
          "metadata": {}
        },
        {
          "output_type": "display_data",
          "data": {
            "text/plain": [
              "Map:   0%|          | 0/2000 [00:00<?, ? examples/s]"
            ],
            "application/vnd.jupyter.widget-view+json": {
              "version_major": 2,
              "version_minor": 0,
              "model_id": "d56cb1a762e84e9480d51bf28f4f15c1"
            }
          },
          "metadata": {}
        }
      ]
    },
    {
      "cell_type": "code",
      "source": [
        "# add padding\n",
        "from transformers import DataCollatorWithPadding\n",
        "\n",
        "# Create a data collator that will pad the tokenized inputs to the maximum length in the batch.\n",
        "data_collator=DataCollatorWithPadding(tokenizer=tokenizer, return_tensors=\"tf\")"
      ],
      "metadata": {
        "execution": {
          "iopub.status.busy": "2023-12-17T20:31:35.673283Z",
          "iopub.execute_input": "2023-12-17T20:31:35.673534Z",
          "iopub.status.idle": "2023-12-17T20:31:54.558386Z",
          "shell.execute_reply.started": "2023-12-17T20:31:35.673513Z",
          "shell.execute_reply": "2023-12-17T20:31:54.557588Z"
        },
        "trusted": true,
        "id": "LNe3EHG2FgEl"
      },
      "execution_count": null,
      "outputs": []
    },
    {
      "cell_type": "code",
      "source": [
        "!pip install -q evaluate"
      ],
      "metadata": {
        "execution": {
          "iopub.status.busy": "2023-12-17T20:31:54.568008Z",
          "iopub.execute_input": "2023-12-17T20:31:54.568323Z",
          "iopub.status.idle": "2023-12-17T20:32:07.367147Z",
          "shell.execute_reply.started": "2023-12-17T20:31:54.568298Z",
          "shell.execute_reply": "2023-12-17T20:32:07.365894Z"
        },
        "trusted": true,
        "id": "a_BxnIjWFgEm"
      },
      "execution_count": null,
      "outputs": []
    },
    {
      "cell_type": "code",
      "source": [
        "!pip install -q matplotlib"
      ],
      "metadata": {
        "id": "l-FRaxzgkbav"
      },
      "execution_count": null,
      "outputs": []
    },
    {
      "cell_type": "code",
      "source": [
        "import evaluate\n",
        "accuracy = evaluate.load(\"accuracy\")"
      ],
      "metadata": {
        "execution": {
          "iopub.status.busy": "2023-12-17T20:32:07.369113Z",
          "iopub.execute_input": "2023-12-17T20:32:07.36955Z",
          "iopub.status.idle": "2023-12-17T20:32:11.64043Z",
          "shell.execute_reply.started": "2023-12-17T20:32:07.369513Z",
          "shell.execute_reply": "2023-12-17T20:32:11.639607Z"
        },
        "trusted": true,
        "id": "XEjWvRkhFgEm",
        "colab": {
          "base_uri": "https://localhost:8080/",
          "height": 49,
          "referenced_widgets": [
            "969be2116d4c4c87b84e2ce20798f2e4",
            "0fd4e88150ce404998ebc8c3e4c1324d",
            "d8c771fc89e741c592c06c3450bb02fa",
            "55f80a56fbd2435b9df3303e9e280dd9",
            "12f67ecc989d40848e3deb6fe5fe4b6b",
            "62712e4b41cf4ea69c26a56c76123bce",
            "d524886c02af4ee6a068805f56b12f46",
            "d1f3645c542b40cca19f92dbfe58c4ed",
            "93d4c4ec4f7546079a89846a0c248604",
            "1448e213b7634dfcb7fe39675fbdd58d",
            "4d085a64326a447ba074061054c25b03"
          ]
        },
        "outputId": "73772dbf-5c39-42f3-d1b5-4734cb3e5892"
      },
      "execution_count": null,
      "outputs": [
        {
          "output_type": "display_data",
          "data": {
            "text/plain": [
              "Downloading builder script: 0.00B [00:00, ?B/s]"
            ],
            "application/vnd.jupyter.widget-view+json": {
              "version_major": 2,
              "version_minor": 0,
              "model_id": "969be2116d4c4c87b84e2ce20798f2e4"
            }
          },
          "metadata": {}
        }
      ]
    },
    {
      "cell_type": "code",
      "source": [
        "from sklearn.metrics import classification_report, confusion_matrix, ConfusionMatrixDisplay\n",
        "import matplotlib.pyplot as plt\n",
        "\n",
        "def compute_metrics(eval_pred):\n",
        "    predictions, labels = eval_pred\n",
        "    predictions = np.argmax(predictions, axis=1)\n",
        "\n",
        "    # Compute overall accuracy\n",
        "    acc = accuracy.compute(predictions=predictions, references=labels)\n",
        "\n",
        "    # Compute classification report and confusion matrix\n",
        "    report = classification_report(labels, predictions, output_dict=True)\n",
        "    cm = confusion_matrix(labels, predictions)\n",
        "\n",
        "    # Plot confusion matrix\n",
        "    disp = ConfusionMatrixDisplay(confusion_matrix=cm)\n",
        "    disp.plot(cmap=plt.cm.Blues)\n",
        "    plt.title(\"Confusion Matrix\")\n",
        "    plt.show()\n",
        "\n",
        "    # Print classification report\n",
        "    print(\"Classification Report:\")\n",
        "    print(classification_report(labels, predictions))\n",
        "\n",
        "    # Return metrics dict for trainer\n",
        "    metrics = {\"accuracy\": acc[\"accuracy\"]}\n",
        "\n",
        "    for label, scores in report.items():\n",
        "        if isinstance(scores, dict):\n",
        "            metrics[f\"{label}_precision\"] = scores[\"precision\"]\n",
        "            metrics[f\"{label}_recall\"] = scores[\"recall\"]\n",
        "            metrics[f\"{label}_f1\"] = scores[\"f1-score\"]\n",
        "\n",
        "    return metrics"
      ],
      "metadata": {
        "id": "tiTAp0vLkcSG"
      },
      "execution_count": null,
      "outputs": []
    },
    {
      "cell_type": "markdown",
      "source": [
        "# <b><div style='padding:15px;background-color:#850E35;color:white;border-radius:2px;font-size:110%;text-align: center'>5. Model Training </div></b>"
      ],
      "metadata": {
        "id": "ntKZ7JhkFgEm"
      }
    },
    {
      "cell_type": "code",
      "source": [
        "from transformers import TFAutoModelForSequenceClassification\n",
        "\n",
        "id2label={0:\"sadness\",1:\"joy\",2:\"love\",3:\"anger\",4:\"fear\",5:\"suprise\"}\n",
        "label2id={\"sadness\":0,\"joy\":1,\"love\":2,\"anger\":3,\"fear\":4,\"suprise\":5}\n",
        "\n",
        "model=TFAutoModelForSequenceClassification.from_pretrained(\n",
        "    model_ckpt, num_labels=6, id2label=id2label, label2id=label2id\n",
        ")"
      ],
      "metadata": {
        "execution": {
          "iopub.status.busy": "2023-12-17T20:32:11.64804Z",
          "iopub.execute_input": "2023-12-17T20:32:11.649202Z",
          "iopub.status.idle": "2023-12-17T20:32:29.438769Z",
          "shell.execute_reply.started": "2023-12-17T20:32:11.649162Z",
          "shell.execute_reply": "2023-12-17T20:32:29.438026Z"
        },
        "trusted": true,
        "id": "o0vZB6AzFgEm",
        "colab": {
          "base_uri": "https://localhost:8080/",
          "height": 173,
          "referenced_widgets": [
            "3b2e315fb80e4baaa9a19af81147c93a",
            "fb467f75c9d9415fbf25694a35de81b5",
            "ebafc783a5c240ebae9be1240c34a2fd",
            "62df6723d6364178a6686e0f47b87ecd",
            "5d3f256245f9478ba6c7710a41155557",
            "b2f52713bb1842b2b8edbfcc94ccb64e",
            "5789f6be988849bc90bb1a4ee1d86969",
            "6b58ae1566934f78a9af76d7b3d7a767",
            "56a22218c5b94f809a816fe1a740cc8f",
            "46bf4e320aa94bc788fed1ce925032fe",
            "18e87292f6514caeb3fca52d5294533b"
          ]
        },
        "outputId": "c7c49a74-3198-4406-d93b-a65ed6bef9c6"
      },
      "execution_count": null,
      "outputs": [
        {
          "output_type": "display_data",
          "data": {
            "text/plain": [
              "model.safetensors:   0%|          | 0.00/268M [00:00<?, ?B/s]"
            ],
            "application/vnd.jupyter.widget-view+json": {
              "version_major": 2,
              "version_minor": 0,
              "model_id": "3b2e315fb80e4baaa9a19af81147c93a"
            }
          },
          "metadata": {}
        },
        {
          "output_type": "stream",
          "name": "stderr",
          "text": [
            "TensorFlow and JAX classes are deprecated and will be removed in Transformers v5. We recommend migrating to PyTorch classes or pinning your version of Transformers.\n",
            "Some weights of the PyTorch model were not used when initializing the TF 2.0 model TFDistilBertForSequenceClassification: ['vocab_layer_norm.bias', 'vocab_transform.weight', 'vocab_layer_norm.weight', 'vocab_projector.bias', 'vocab_transform.bias']\n",
            "- This IS expected if you are initializing TFDistilBertForSequenceClassification from a PyTorch model trained on another task or with another architecture (e.g. initializing a TFBertForSequenceClassification model from a BertForPreTraining model).\n",
            "- This IS NOT expected if you are initializing TFDistilBertForSequenceClassification from a PyTorch model that you expect to be exactly identical (e.g. initializing a TFBertForSequenceClassification model from a BertForSequenceClassification model).\n",
            "Some weights or buffers of the TF 2.0 model TFDistilBertForSequenceClassification were not initialized from the PyTorch model and are newly initialized: ['pre_classifier.weight', 'pre_classifier.bias', 'classifier.weight', 'classifier.bias']\n",
            "You should probably TRAIN this model on a down-stream task to be able to use it for predictions and inference.\n"
          ]
        }
      ]
    },
    {
      "cell_type": "markdown",
      "source": [
        "## Preparing the datasets"
      ],
      "metadata": {
        "id": "CTy2wGTqFgEm"
      }
    },
    {
      "cell_type": "code",
      "source": [
        "tf_train_set = model.prepare_tf_dataset(\n",
        "    emotions_encoded[\"train\"],\n",
        "    shuffle = True,\n",
        "    batch_size = 16, # can adjust to 16 for slower training\n",
        "    # collate_fn is used to pad the sequences in the batch to the same length\n",
        "    collate_fn = data_collator\n",
        ")\n",
        "\n",
        "tf_validation_set = model.prepare_tf_dataset(\n",
        "    emotions_encoded[\"validation\"],\n",
        "    shuffle=False,\n",
        "    batch_size = 64,\n",
        "    collate_fn = data_collator\n",
        ")"
      ],
      "metadata": {
        "execution": {
          "iopub.status.busy": "2023-12-17T20:35:30.272666Z",
          "iopub.execute_input": "2023-12-17T20:35:30.273069Z",
          "iopub.status.idle": "2023-12-17T20:35:30.926659Z",
          "shell.execute_reply.started": "2023-12-17T20:35:30.273038Z",
          "shell.execute_reply": "2023-12-17T20:35:30.925324Z"
        },
        "trusted": true,
        "id": "NDhJvZLxFgEm"
      },
      "execution_count": null,
      "outputs": []
    },
    {
      "cell_type": "code",
      "source": [
        "import tensorflow as tf\n",
        "\n",
        "optimizer = tf.keras.optimizers.Adam(learning_rate=2e-5) # 5e-5 can adjust to 2e-5 for slower training\n",
        "model.compile(optimizer=optimizer)"
      ],
      "metadata": {
        "execution": {
          "iopub.status.busy": "2023-12-17T20:35:30.929362Z",
          "iopub.execute_input": "2023-12-17T20:35:30.930091Z",
          "iopub.status.idle": "2023-12-17T20:35:30.957605Z",
          "shell.execute_reply.started": "2023-12-17T20:35:30.930048Z",
          "shell.execute_reply": "2023-12-17T20:35:30.956549Z"
        },
        "trusted": true,
        "id": "6vK6FNf3FgEn"
      },
      "execution_count": null,
      "outputs": []
    },
    {
      "cell_type": "markdown",
      "source": [
        "## Setting the callbacks"
      ],
      "metadata": {
        "id": "KfyDrw03FgEn"
      }
    },
    {
      "cell_type": "markdown",
      "source": [
        "# Results\n",
        "\n",
        "After training for 2 epochs on a Colab GPU, the model achieved the following outcomes:\n",
        "\n",
        "- **Validation Accuracy:** ~XX% (*replace with your actual value here, e.g. ~88%*)\n",
        "- **Per‑class metrics:** Computed and displayed in a classification report (see notebook output)\n",
        "- **Confusion Matrix:** Plotted, showing correct vs. incorrect predictions per class\n",
        "- **Example inference:**\n",
        "  - Input: `\"I’m furious about what happened\"`\n",
        "  - Predicted: `anger` (highest confidence score)\n",
        "\n",
        "Key findings:\n",
        "- The model performed well on majority classes (`joy`, `sadness`) with high precision and recall.\n",
        "- Performance was lower on minority classes (`surprise`, `love`) due to imbalance.\n",
        "- Visualization of confusion matrix revealed which classes were most commonly confused.\n"
      ],
      "metadata": {
        "id": "n4o03IyoFgEm"
      }
    },
    {
      "cell_type": "code",
      "source": [
        "from transformers.keras_callbacks import KerasMetricCallback\n",
        "from transformers.keras_callbacks import PushToHubCallback\n",
        "\n",
        "metric_callback=KerasMetricCallback(\n",
        "    metric_fn=compute_metrics,\n",
        "    eval_dataset = tf_validation_set\n",
        ")\n",
        "\n",
        "push_to_hub_callback=PushToHubCallback(\n",
        "    output_dir = \"distilbert-emotion-analysis-v1\",\n",
        "    tokenizer = tokenizer\n",
        ")"
      ],
      "metadata": {
        "execution": {
          "iopub.status.busy": "2023-12-17T20:35:30.958866Z",
          "iopub.execute_input": "2023-12-17T20:35:30.959322Z",
          "iopub.status.idle": "2023-12-17T20:37:08.825104Z",
          "shell.execute_reply.started": "2023-12-17T20:35:30.959283Z",
          "shell.execute_reply": "2023-12-17T20:37:08.824248Z"
        },
        "trusted": true,
        "id": "HQ3fF1SHFgEn",
        "colab": {
          "base_uri": "https://localhost:8080/"
        },
        "outputId": "6b5084cc-9e7f-4b4d-b717-4393226e5b40"
      },
      "execution_count": null,
      "outputs": [
        {
          "output_type": "stream",
          "name": "stderr",
          "text": [
            "/usr/local/lib/python3.11/dist-packages/huggingface_hub/utils/_deprecation.py:131: FutureWarning: 'Repository' (from 'huggingface_hub.repository') is deprecated and will be removed from version '1.0'. Please prefer the http-based alternatives instead. Given its large adoption in legacy code, the complete removal is only planned on next major release.\n",
            "For more details, please read https://huggingface.co/docs/huggingface_hub/concepts/git_vs_http.\n",
            "  warnings.warn(warning_message, FutureWarning)\n",
            "/content/distilbert-emotion-analysis-v1 is already a clone of https://huggingface.co/haidwg/distilbert-emotion-analysis-v1. Make sure you pull the latest changes with `repo.git_pull()`.\n",
            "WARNING:huggingface_hub.repository:/content/distilbert-emotion-analysis-v1 is already a clone of https://huggingface.co/haidwg/distilbert-emotion-analysis-v1. Make sure you pull the latest changes with `repo.git_pull()`.\n"
          ]
        }
      ]
    },
    {
      "cell_type": "code",
      "source": [
        "model.fit(x=tf_train_set,\n",
        "         validation_data=tf_validation_set,\n",
        "         epochs=5, # can adjust to 3/5 for slower training\n",
        "         callbacks=[metric_callback, push_to_hub_callback])"
      ],
      "metadata": {
        "execution": {
          "iopub.status.busy": "2023-12-17T20:37:08.827415Z",
          "iopub.execute_input": "2023-12-17T20:37:08.827724Z",
          "iopub.status.idle": "2023-12-17T20:42:00.752569Z",
          "shell.execute_reply.started": "2023-12-17T20:37:08.827698Z",
          "shell.execute_reply": "2023-12-17T20:42:00.751552Z"
        },
        "trusted": true,
        "id": "OBrSOEHrFgEn",
        "colab": {
          "base_uri": "https://localhost:8080/",
          "height": 1000
        },
        "outputId": "2fe3e734-f613-4fec-990a-951d9ed3b190"
      },
      "execution_count": null,
      "outputs": [
        {
          "output_type": "stream",
          "name": "stdout",
          "text": [
            "Epoch 1/5\n",
            "1000/1000 [==============================] - ETA: 0s - loss: 0.0974"
          ]
        },
        {
          "output_type": "display_data",
          "data": {
            "text/plain": [
              "<Figure size 640x480 with 2 Axes>"
            ],
            "image/png": "[encoded data removed]"
          },
          "metadata": {}
        },
        {
          "output_type": "stream",
          "name": "stdout",
          "text": [
            "Classification Report:\n",
            "              precision    recall  f1-score   support\n",
            "\n",
            "           0       0.97      0.96      0.96       550\n",
            "           1       0.96      0.96      0.96       704\n",
            "           2       0.86      0.88      0.87       178\n",
            "           3       0.96      0.90      0.93       275\n",
            "           4       0.84      0.95      0.89       212\n",
            "           5       0.90      0.81      0.86        81\n",
            "\n",
            "    accuracy                           0.94      2000\n",
            "   macro avg       0.92      0.91      0.91      2000\n",
            "weighted avg       0.94      0.94      0.94      2000\n",
            "\n",
            "1000/1000 [==============================] - 133s 133ms/step - loss: 0.0974 - val_loss: 0.1514 - accuracy: 0.9360 - 0_precision: 0.9705 - 0_recall: 0.9582 - 0_f1: 0.9643 - 1_precision: 0.9560 - 1_recall: 0.9574 - 1_f1: 0.9567 - 2_precision: 0.8579 - 2_recall: 0.8820 - 2_f1: 0.8698 - 3_precision: 0.9648 - 3_recall: 0.8982 - 3_f1: 0.9303 - 4_precision: 0.8375 - 4_recall: 0.9481 - 4_f1: 0.8894 - 5_precision: 0.9041 - 5_recall: 0.8148 - 5_f1: 0.8571 - macro avg_precision: 0.9152 - macro avg_recall: 0.9098 - macro avg_f1: 0.9113 - weighted avg_precision: 0.9378 - weighted avg_recall: 0.9360 - weighted avg_f1: 0.9363\n",
            "Epoch 2/5\n",
            "1000/1000 [==============================] - ETA: 0s - loss: 0.0834"
          ]
        },
        {
          "output_type": "display_data",
          "data": {
            "text/plain": [
              "<Figure size 640x480 with 2 Axes>"
            ],
            "image/png": "[encoded data removed]"
          },
          "metadata": {}
        },
        {
          "output_type": "stream",
          "name": "stdout",
          "text": [
            "Classification Report:\n",
            "              precision    recall  f1-score   support\n",
            "\n",
            "           0       0.97      0.96      0.96       550\n",
            "           1       0.96      0.94      0.95       704\n",
            "           2       0.82      0.88      0.85       178\n",
            "           3       0.97      0.91      0.94       275\n",
            "           4       0.84      0.95      0.89       212\n",
            "           5       0.89      0.79      0.84        81\n",
            "\n",
            "    accuracy                           0.93      2000\n",
            "   macro avg       0.91      0.91      0.90      2000\n",
            "weighted avg       0.93      0.93      0.93      2000\n",
            "\n",
            "1000/1000 [==============================] - 138s 138ms/step - loss: 0.0834 - val_loss: 0.1639 - accuracy: 0.9320 - 0_precision: 0.9653 - 0_recall: 0.9618 - 0_f1: 0.9636 - 1_precision: 0.9609 - 1_recall: 0.9432 - 1_f1: 0.9520 - 2_precision: 0.8177 - 2_recall: 0.8820 - 2_f1: 0.8486 - 3_precision: 0.9689 - 3_recall: 0.9055 - 3_f1: 0.9361 - 4_precision: 0.8375 - 4_recall: 0.9481 - 4_f1: 0.8894 - 5_precision: 0.8889 - 5_recall: 0.7901 - 5_f1: 0.8366 - macro avg_precision: 0.9065 - macro avg_recall: 0.9051 - macro avg_f1: 0.9044 - weighted avg_precision: 0.9345 - weighted avg_recall: 0.9320 - weighted avg_f1: 0.9325\n",
            "Epoch 3/5\n",
            "1000/1000 [==============================] - ETA: 0s - loss: 0.0687"
          ]
        },
        {
          "output_type": "display_data",
          "data": {
            "text/plain": [
              "<Figure size 640x480 with 2 Axes>"
            ],
            "image/png": "[encoded data removed]"
          },
          "metadata": {}
        },
        {
          "output_type": "stream",
          "name": "stdout",
          "text": [
            "Classification Report:\n",
            "              precision    recall  f1-score   support\n",
            "\n",
            "           0       0.95      0.97      0.96       550\n",
            "           1       0.95      0.95      0.95       704\n",
            "           2       0.85      0.87      0.86       178\n",
            "           3       0.98      0.88      0.93       275\n",
            "           4       0.86      0.93      0.90       212\n",
            "           5       0.88      0.83      0.85        81\n",
            "\n",
            "    accuracy                           0.93      2000\n",
            "   macro avg       0.91      0.91      0.91      2000\n",
            "weighted avg       0.93      0.93      0.93      2000\n",
            "\n",
            "1000/1000 [==============================] - 128s 128ms/step - loss: 0.0687 - val_loss: 0.1951 - accuracy: 0.9330 - 0_precision: 0.9520 - 0_recall: 0.9727 - 0_f1: 0.9622 - 1_precision: 0.9530 - 1_recall: 0.9503 - 1_f1: 0.9516 - 2_precision: 0.8470 - 2_recall: 0.8708 - 2_f1: 0.8587 - 3_precision: 0.9798 - 3_recall: 0.8800 - 3_f1: 0.9272 - 4_precision: 0.8609 - 4_recall: 0.9340 - 4_f1: 0.8959 - 5_precision: 0.8816 - 5_recall: 0.8272 - 5_f1: 0.8535 - macro avg_precision: 0.9124 - macro avg_recall: 0.9058 - macro avg_f1: 0.9082 - weighted avg_precision: 0.9343 - weighted avg_recall: 0.9330 - weighted avg_f1: 0.9330\n",
            "Epoch 4/5\n",
            "1000/1000 [==============================] - ETA: 0s - loss: 0.0569"
          ]
        },
        {
          "output_type": "display_data",
          "data": {
            "text/plain": [
              "<Figure size 640x480 with 2 Axes>"
            ],
            "image/png": "[encoded data removed]"
          },
          "metadata": {}
        },
        {
          "output_type": "stream",
          "name": "stdout",
          "text": [
            "Classification Report:\n",
            "              precision    recall  f1-score   support\n",
            "\n",
            "           0       0.96      0.97      0.96       550\n",
            "           1       0.97      0.93      0.95       704\n",
            "           2       0.82      0.92      0.87       178\n",
            "           3       0.97      0.94      0.95       275\n",
            "           4       0.90      0.93      0.91       212\n",
            "           5       0.90      0.80      0.85        81\n",
            "\n",
            "    accuracy                           0.94      2000\n",
            "   macro avg       0.92      0.92      0.92      2000\n",
            "weighted avg       0.94      0.94      0.94      2000\n",
            "\n",
            "1000/1000 [==============================] - 137s 137ms/step - loss: 0.0569 - val_loss: 0.1914 - accuracy: 0.9390 - 0_precision: 0.9554 - 0_recall: 0.9727 - 0_f1: 0.9640 - 1_precision: 0.9662 - 1_recall: 0.9347 - 1_f1: 0.9502 - 2_precision: 0.8232 - 2_recall: 0.9157 - 2_f1: 0.8670 - 3_precision: 0.9664 - 3_recall: 0.9418 - 3_f1: 0.9540 - 4_precision: 0.8959 - 4_recall: 0.9340 - 4_f1: 0.9145 - 5_precision: 0.9028 - 5_recall: 0.8025 - 5_f1: 0.8497 - macro avg_precision: 0.9183 - macro avg_recall: 0.9169 - macro avg_f1: 0.9166 - weighted avg_precision: 0.9405 - weighted avg_recall: 0.9390 - weighted avg_f1: 0.9392\n",
            "Epoch 5/5\n",
            "1000/1000 [==============================] - ETA: 0s - loss: 0.0510"
          ]
        },
        {
          "output_type": "display_data",
          "data": {
            "text/plain": [
              "<Figure size 640x480 with 2 Axes>"
            ],
            "image/png": "[encoded data removed]"
          },
          "metadata": {}
        },
        {
          "output_type": "stream",
          "name": "stdout",
          "text": [
            "Classification Report:\n",
            "              precision    recall  f1-score   support\n",
            "\n",
            "           0       0.97      0.97      0.97       550\n",
            "           1       0.96      0.95      0.95       704\n",
            "           2       0.84      0.88      0.86       178\n",
            "           3       0.97      0.93      0.95       275\n",
            "           4       0.89      0.91      0.90       212\n",
            "           5       0.83      0.89      0.86        81\n",
            "\n",
            "    accuracy                           0.94      2000\n",
            "   macro avg       0.91      0.92      0.92      2000\n",
            "weighted avg       0.94      0.94      0.94      2000\n",
            "\n",
            "1000/1000 [==============================] - 142s 142ms/step - loss: 0.0510 - val_loss: 0.1881 - accuracy: 0.9395 - 0_precision: 0.9674 - 0_recall: 0.9709 - 0_f1: 0.9691 - 1_precision: 0.9611 - 1_recall: 0.9474 - 1_f1: 0.9542 - 2_precision: 0.8396 - 2_recall: 0.8820 - 2_f1: 0.8603 - 3_precision: 0.9734 - 3_recall: 0.9309 - 3_f1: 0.9517 - 4_precision: 0.8894 - 4_recall: 0.9104 - 4_f1: 0.8998 - 5_precision: 0.8276 - 5_recall: 0.8889 - 5_f1: 0.8571 - macro avg_precision: 0.9097 - macro avg_recall: 0.9218 - macro avg_f1: 0.9154 - weighted avg_precision: 0.9407 - weighted avg_recall: 0.9395 - weighted avg_f1: 0.9399\n"
          ]
        },
        {
          "output_type": "execute_result",
          "data": {
            "text/plain": [
              "<tf_keras.src.callbacks.History at 0x7f9c2a387510>"
            ]
          },
          "metadata": {},
          "execution_count": 26
        }
      ]
    },
    {
      "cell_type": "markdown",
      "source": [
        "# Test"
      ],
      "metadata": {
        "id": "HOvsIC4Kkyz3"
      }
    },
    {
      "cell_type": "code",
      "source": [
        "!pip install -U transformers"
      ],
      "metadata": {
        "colab": {
          "base_uri": "https://localhost:8080/"
        },
        "id": "hfo70mBwQhwB",
        "outputId": "27e9431c-bad4-4c96-bdb1-5b038ecd3365"
      },
      "execution_count": null,
      "outputs": [
        {
          "output_type": "stream",
          "name": "stdout",
          "text": [
            "Requirement already satisfied: transformers in /usr/local/lib/python3.11/dist-packages (4.53.2)\n",
            "Requirement already satisfied: filelock in /usr/local/lib/python3.11/dist-packages (from transformers) (3.18.0)\n",
            "Requirement already satisfied: huggingface-hub<1.0,>=0.30.0 in /usr/local/lib/python3.11/dist-packages (from transformers) (0.33.4)\n",
            "Requirement already satisfied: numpy>=1.17 in /usr/local/lib/python3.11/dist-packages (from transformers) (2.0.2)\n",
            "Requirement already satisfied: packaging>=20.0 in /usr/local/lib/python3.11/dist-packages (from transformers) (25.0)\n",
            "Requirement already satisfied: pyyaml>=5.1 in /usr/local/lib/python3.11/dist-packages (from transformers) (6.0.2)\n",
            "Requirement already satisfied: regex!=2019.12.17 in /usr/local/lib/python3.11/dist-packages (from transformers) (2024.11.6)\n",
            "Requirement already satisfied: requests in /usr/local/lib/python3.11/dist-packages (from transformers) (2.32.3)\n",
            "Requirement already satisfied: tokenizers<0.22,>=0.21 in /usr/local/lib/python3.11/dist-packages (from transformers) (0.21.2)\n",
            "Requirement already satisfied: safetensors>=0.4.3 in /usr/local/lib/python3.11/dist-packages (from transformers) (0.5.3)\n",
            "Requirement already satisfied: tqdm>=4.27 in /usr/local/lib/python3.11/dist-packages (from transformers) (4.67.1)\n",
            "Requirement already satisfied: fsspec>=2023.5.0 in /usr/local/lib/python3.11/dist-packages (from huggingface-hub<1.0,>=0.30.0->transformers) (2025.3.0)\n",
            "Requirement already satisfied: typing-extensions>=3.7.4.3 in /usr/local/lib/python3.11/dist-packages (from huggingface-hub<1.0,>=0.30.0->transformers) (4.14.1)\n",
            "Requirement already satisfied: hf-xet<2.0.0,>=1.1.2 in /usr/local/lib/python3.11/dist-packages (from huggingface-hub<1.0,>=0.30.0->transformers) (1.1.5)\n",
            "Requirement already satisfied: charset-normalizer<4,>=2 in /usr/local/lib/python3.11/dist-packages (from requests->transformers) (3.4.2)\n",
            "Requirement already satisfied: idna<4,>=2.5 in /usr/local/lib/python3.11/dist-packages (from requests->transformers) (3.10)\n",
            "Requirement already satisfied: urllib3<3,>=1.21.1 in /usr/local/lib/python3.11/dist-packages (from requests->transformers) (2.4.0)\n",
            "Requirement already satisfied: certifi>=2017.4.17 in /usr/local/lib/python3.11/dist-packages (from requests->transformers) (2025.7.14)\n"
          ]
        }
      ]
    },
    {
      "cell_type": "code",
      "source": [
        "from transformers import TFAutoModelForSequenceClassification, AutoTokenizer\n",
        "\n",
        "tokenizer = AutoTokenizer.from_pretrained(\"haidwg/distilbert-emotion-analysis-v1\")\n",
        "model = TFAutoModelForSequenceClassification.from_pretrained(\n",
        "    \"haidwg/distilbert-emotion-analysis-v1\", from_pt=False\n",
        ")"
      ],
      "metadata": {
        "_kg_hide-output": false,
        "execution": {
          "iopub.status.busy": "2023-12-17T20:42:00.759836Z",
          "iopub.execute_input": "2023-12-17T20:42:00.760167Z",
          "iopub.status.idle": "2023-12-17T20:42:06.150734Z",
          "shell.execute_reply.started": "2023-12-17T20:42:00.760117Z",
          "shell.execute_reply": "2023-12-17T20:42:06.149879Z"
        },
        "trusted": true,
        "id": "1s_oA37TFgEn",
        "colab": {
          "base_uri": "https://localhost:8080/",
          "height": 316,
          "referenced_widgets": [
            "2414acb9045f44a29d3123599fea357a",
            "dd57cc78bd364f16acf469337a5a9159",
            "59e519ef09464cbe9fa9c699761e34ff",
            "a9fa611c739049399a374e4862519eb1",
            "ee064dcbefb64df48aa401b06ba0bc52",
            "246232a1bd854a59825de4cc039a5345",
            "80ddda46f9dc4b76aac9fde0aca4243b",
            "1a1dfc6e2c544749a88ecd328d75864a",
            "6174296c7c0844828ff8689bd1d32dd8",
            "8d76b6e5d66a44e8910987a507936389",
            "33332ac3868a4cb79641d0c21988d39b",
            "8d157256b8a44460ac9468899e5176f3",
            "183ae4e349ab4c73a95b59fa467a7380",
            "5a73db51fb5140288a07f26767bc7f11",
            "1c326e0b9ff243868aaca31a7c5aa82f",
            "35f3079964b34de784c22c399a067872",
            "effb1b1623b84b3d95dfdf8b37eda543",
            "b1a36f83747e43d191c3bc1bdf3d03df",
            "11843fd3c3aa4f0cb99ef620304452cd",
            "15cdd6d3630a4be29052d855426bc29d",
            "827ae8750d194b4b91de864481424837",
            "3760acd7b6ec471a871baf0d48848e60",
            "b3b3779012474bf2815ea539fafa8146",
            "867119013df04b74899d24c3d71bc49b",
            "ac0ec2cf8ad1401b941f3fa8fa1e9e22",
            "5952fdb99b1749f6b3de1a9cced20534",
            "157db2dbcdd147c7b12ded444007abad",
            "225d9285f4434ad9a9ed426cb3bce5a2",
            "5e4a7e70d9e54f7ea4b6f5d6cf67c3a7",
            "aff57696d3474f7298823c12b4be796c",
            "c3c4de2d4b1f48d684eef4c2cbc09c19",
            "c1b7972d10e2455eae9f28830f6eb94d",
            "5781aacce96a4541819732c7a9baf180",
            "88d89005d9bd4eea8787e3db5b27133a",
            "47f9090e9d2c4394b0a90a843797f3f1",
            "bf8789482cb849d3a27e273150842302",
            "4c1b7c1ec8dc4c458f7fff78cfbe29d5",
            "6809d636652b4cad9fabf9e5b6fca4b8",
            "cd9ec7bdc3f64d059f4d92f9b3e54ddf",
            "010f6685c6634d5d998c6e60e310bb1a",
            "3ee4cca80879431bb9c79da1b4acff43",
            "9c77da7c75b04ce1b1481ce0c8af649f",
            "3477fc24b2c0476d82f11ee22ffcf64a",
            "b9dd161df03b40bdabe2491e67b6f118",
            "ca58faa0ce7d4e0b8e9f793af9bf9aa0",
            "375cc01be5ca47fd9ba870972ec2f6cf",
            "4a56c20dd5dd48d0aba00d31dfb94f46",
            "a7e7bd77333345f3ae48dfa0f7eefac9",
            "bfec197390ba4eb9ba5e70849e05b005",
            "5d104879e7d24216ade1690ed8d9aaf7",
            "4c5e5a95449141239271afb7f044b891",
            "2c01fbd905f245c3934be47c009b0ba5",
            "08e05eda20974a63bf566ac7fcd437b4",
            "07f450dd8b8e467f8f22f6647c4167ac",
            "ff4a3666887d41d1858a6949cde2f355",
            "ce3f0070c6a54969a5e3a3c7c2cb2344",
            "bd92d28e08a644eab321be9b1c72b687",
            "abd9a2ebf8804c28afb4e7f2528e5c64",
            "0d06af08ac0042718bc27c40951b5ee4",
            "52a4c7ae6b584074acdae0e8a01f5e5f",
            "ca66ede9e6f344168477f6e5d7e46d03",
            "ae1c2cffa32145628f18b2e4d47f44ba",
            "f6f0e669efe04a3da46eb94b3ae3f4f2",
            "fc304ce5dd1e4953b9baedbc91ffef94",
            "3bf0aeb6d64e48ae976704c330093e7b",
            "a415c071bbf74e5582342469bed7353b"
          ]
        },
        "outputId": "d256a917-04a5-418f-f67d-83012ea932c5"
      },
      "execution_count": null,
      "outputs": [
        {
          "output_type": "display_data",
          "data": {
            "text/plain": [
              "tokenizer_config.json: 0.00B [00:00, ?B/s]"
            ],
            "application/vnd.jupyter.widget-view+json": {
              "version_major": 2,
              "version_minor": 0,
              "model_id": "2414acb9045f44a29d3123599fea357a"
            }
          },
          "metadata": {}
        },
        {
          "output_type": "display_data",
          "data": {
            "text/plain": [
              "vocab.txt: 0.00B [00:00, ?B/s]"
            ],
            "application/vnd.jupyter.widget-view+json": {
              "version_major": 2,
              "version_minor": 0,
              "model_id": "8d157256b8a44460ac9468899e5176f3"
            }
          },
          "metadata": {}
        },
        {
          "output_type": "display_data",
          "data": {
            "text/plain": [
              "tokenizer.json: 0.00B [00:00, ?B/s]"
            ],
            "application/vnd.jupyter.widget-view+json": {
              "version_major": 2,
              "version_minor": 0,
              "model_id": "b3b3779012474bf2815ea539fafa8146"
            }
          },
          "metadata": {}
        },
        {
          "output_type": "display_data",
          "data": {
            "text/plain": [
              "special_tokens_map.json:   0%|          | 0.00/125 [00:00<?, ?B/s]"
            ],
            "application/vnd.jupyter.widget-view+json": {
              "version_major": 2,
              "version_minor": 0,
              "model_id": "88d89005d9bd4eea8787e3db5b27133a"
            }
          },
          "metadata": {}
        },
        {
          "output_type": "display_data",
          "data": {
            "text/plain": [
              "config.json:   0%|          | 0.00/736 [00:00<?, ?B/s]"
            ],
            "application/vnd.jupyter.widget-view+json": {
              "version_major": 2,
              "version_minor": 0,
              "model_id": "ca58faa0ce7d4e0b8e9f793af9bf9aa0"
            }
          },
          "metadata": {}
        },
        {
          "output_type": "display_data",
          "data": {
            "text/plain": [
              "tf_model.h5:   0%|          | 0.00/268M [00:00<?, ?B/s]"
            ],
            "application/vnd.jupyter.widget-view+json": {
              "version_major": 2,
              "version_minor": 0,
              "model_id": "ce3f0070c6a54969a5e3a3c7c2cb2344"
            }
          },
          "metadata": {}
        },
        {
          "output_type": "stream",
          "name": "stderr",
          "text": [
            "Some layers from the model checkpoint at haidwg/distilbert-emotion-analysis-v1 were not used when initializing TFDistilBertForSequenceClassification: ['dropout_19']\n",
            "- This IS expected if you are initializing TFDistilBertForSequenceClassification from the checkpoint of a model trained on another task or with another architecture (e.g. initializing a BertForSequenceClassification model from a BertForPreTraining model).\n",
            "- This IS NOT expected if you are initializing TFDistilBertForSequenceClassification from the checkpoint of a model that you expect to be exactly identical (initializing a BertForSequenceClassification model from a BertForSequenceClassification model).\n",
            "Some layers of TFDistilBertForSequenceClassification were not initialized from the model checkpoint at haidwg/distilbert-emotion-analysis-v1 and are newly initialized: ['dropout_39']\n",
            "You should probably TRAIN this model on a down-stream task to be able to use it for predictions and inference.\n"
          ]
        }
      ]
    },
    {
      "cell_type": "code",
      "source": [
        "from transformers import pipeline\n",
        "\n",
        "pipe = pipeline(\n",
        "    \"text-classification\",\n",
        "    model=model,\n",
        "    tokenizer=tokenizer,\n",
        "    framework=\"tf\"\n",
        ")"
      ],
      "metadata": {
        "colab": {
          "base_uri": "https://localhost:8080/"
        },
        "id": "6q_VuS-dR3HK",
        "outputId": "675c17f2-52c9-469b-b708-aca88ca3c979"
      },
      "execution_count": null,
      "outputs": [
        {
          "output_type": "stream",
          "name": "stderr",
          "text": [
            "TensorFlow and JAX classes are deprecated and will be removed in Transformers v5. We recommend migrating to PyTorch classes or pinning your version of Transformers.\n",
            "Device set to use 0\n"
          ]
        }
      ]
    },
    {
      "cell_type": "code",
      "source": [
        "result = pipe(\"I’m furious about what happened\", top_k=3)\n",
        "print(result)"
      ],
      "metadata": {
        "colab": {
          "base_uri": "https://localhost:8080/"
        },
        "id": "3WiDwXbARl4-",
        "outputId": "dbdd8a6f-bcb9-4c7f-d6c6-19344ea06fe9"
      },
      "execution_count": null,
      "outputs": [
        {
          "output_type": "stream",
          "name": "stdout",
          "text": [
            "[{'label': 'anger', 'score': 0.9995250701904297}, {'label': 'sadness', 'score': 0.00024244243104476482}, {'label': 'joy', 'score': 0.00010775723058031872}]\n"
          ]
        }
      ]
    },
    {
      "cell_type": "markdown",
      "source": [
        "## Discussion\n",
        "\n",
        "The fine‑tuned DistilBERT model showed strong performance overall, with reliable predictions on the most frequent classes and reasonable generalization to unseen examples.\n",
        "\n",
        "### Strengths:\n",
        "- High accuracy on majority classes\n",
        "- Efficient and fast fine‑tuning\n",
        "- Easy deployment through HuggingFace Hub\n",
        "\n",
        "### Weaknesses:\n",
        "- Lower recall and precision on minority classes\n",
        "- Limited number of epochs (only 2) may have limited full convergence\n",
        "\n",
        "### Future work:\n",
        "- Experiment with techniques to address class imbalance, such as weighted loss or oversampling.\n",
        "- Train for additional epochs and tune learning rate for better convergence.\n",
        "- Explore larger or more powerful models like BERT‑base or RoBERTa.\n"
      ],
      "metadata": {
        "id": "FpgU0HEnifBD"
      }
    },
    {
      "cell_type": "code",
      "source": [
        "!pip install -U datasets fsspec\n"
      ],
      "metadata": {
        "colab": {
          "base_uri": "https://localhost:8080/",
          "height": 1000
        },
        "id": "Nfs5vGwrcJRD",
        "outputId": "32b50cbc-69fc-4fd8-f50a-8b6649f079e7"
      },
      "execution_count": null,
      "outputs": [
        {
          "output_type": "stream",
          "name": "stdout",
          "text": [
            "Requirement already satisfied: datasets in /usr/local/lib/python3.11/dist-packages (2.14.4)\n",
            "Collecting datasets\n",
            "  Downloading datasets-4.0.0-py3-none-any.whl.metadata (19 kB)\n",
            "Requirement already satisfied: fsspec in /usr/local/lib/python3.11/dist-packages (2025.3.2)\n",
            "Collecting fsspec\n",
            "  Downloading fsspec-2025.7.0-py3-none-any.whl.metadata (12 kB)\n",
            "Requirement already satisfied: filelock in /usr/local/lib/python3.11/dist-packages (from datasets) (3.18.0)\n",
            "Requirement already satisfied: numpy>=1.17 in /usr/local/lib/python3.11/dist-packages (from datasets) (2.0.2)\n",
            "Requirement already satisfied: pyarrow>=15.0.0 in /usr/local/lib/python3.11/dist-packages (from datasets) (18.1.0)\n",
            "Requirement already satisfied: dill<0.3.9,>=0.3.0 in /usr/local/lib/python3.11/dist-packages (from datasets) (0.3.7)\n",
            "Requirement already satisfied: pandas in /usr/local/lib/python3.11/dist-packages (from datasets) (2.2.2)\n",
            "Requirement already satisfied: requests>=2.32.2 in /usr/local/lib/python3.11/dist-packages (from datasets) (2.32.3)\n",
            "Requirement already satisfied: tqdm>=4.66.3 in /usr/local/lib/python3.11/dist-packages (from datasets) (4.67.1)\n",
            "Requirement already satisfied: xxhash in /usr/local/lib/python3.11/dist-packages (from datasets) (3.5.0)\n",
            "Requirement already satisfied: multiprocess<0.70.17 in /usr/local/lib/python3.11/dist-packages (from datasets) (0.70.15)\n",
            "  Downloading fsspec-2025.3.0-py3-none-any.whl.metadata (11 kB)\n",
            "Requirement already satisfied: huggingface-hub>=0.24.0 in /usr/local/lib/python3.11/dist-packages (from datasets) (0.33.4)\n",
            "Requirement already satisfied: packaging in /usr/local/lib/python3.11/dist-packages (from datasets) (25.0)\n",
            "Requirement already satisfied: pyyaml>=5.1 in /usr/local/lib/python3.11/dist-packages (from datasets) (6.0.2)\n",
            "Requirement already satisfied: aiohttp!=4.0.0a0,!=4.0.0a1 in /usr/local/lib/python3.11/dist-packages (from fsspec[http]<=2025.3.0,>=2023.1.0->datasets) (3.11.15)\n",
            "Requirement already satisfied: typing-extensions>=3.7.4.3 in /usr/local/lib/python3.11/dist-packages (from huggingface-hub>=0.24.0->datasets) (4.14.1)\n",
            "Requirement already satisfied: hf-xet<2.0.0,>=1.1.2 in /usr/local/lib/python3.11/dist-packages (from huggingface-hub>=0.24.0->datasets) (1.1.5)\n",
            "Requirement already satisfied: charset-normalizer<4,>=2 in /usr/local/lib/python3.11/dist-packages (from requests>=2.32.2->datasets) (3.4.2)\n",
            "Requirement already satisfied: idna<4,>=2.5 in /usr/local/lib/python3.11/dist-packages (from requests>=2.32.2->datasets) (3.10)\n",
            "Requirement already satisfied: urllib3<3,>=1.21.1 in /usr/local/lib/python3.11/dist-packages (from requests>=2.32.2->datasets) (2.4.0)\n",
            "Requirement already satisfied: certifi>=2017.4.17 in /usr/local/lib/python3.11/dist-packages (from requests>=2.32.2->datasets) (2025.7.14)\n",
            "Requirement already satisfied: python-dateutil>=2.8.2 in /usr/local/lib/python3.11/dist-packages (from pandas->datasets) (2.9.0.post0)\n",
            "Requirement already satisfied: pytz>=2020.1 in /usr/local/lib/python3.11/dist-packages (from pandas->datasets) (2025.2)\n",
            "Requirement already satisfied: tzdata>=2022.7 in /usr/local/lib/python3.11/dist-packages (from pandas->datasets) (2025.2)\n",
            "Requirement already satisfied: aiohappyeyeballs>=2.3.0 in /usr/local/lib/python3.11/dist-packages (from aiohttp!=4.0.0a0,!=4.0.0a1->fsspec[http]<=2025.3.0,>=2023.1.0->datasets) (2.6.1)\n",
            "Requirement already satisfied: aiosignal>=1.1.2 in /usr/local/lib/python3.11/dist-packages (from aiohttp!=4.0.0a0,!=4.0.0a1->fsspec[http]<=2025.3.0,>=2023.1.0->datasets) (1.4.0)\n",
            "Requirement already satisfied: attrs>=17.3.0 in /usr/local/lib/python3.11/dist-packages (from aiohttp!=4.0.0a0,!=4.0.0a1->fsspec[http]<=2025.3.0,>=2023.1.0->datasets) (25.3.0)\n",
            "Requirement already satisfied: frozenlist>=1.1.1 in /usr/local/lib/python3.11/dist-packages (from aiohttp!=4.0.0a0,!=4.0.0a1->fsspec[http]<=2025.3.0,>=2023.1.0->datasets) (1.7.0)\n",
            "Requirement already satisfied: multidict<7.0,>=4.5 in /usr/local/lib/python3.11/dist-packages (from aiohttp!=4.0.0a0,!=4.0.0a1->fsspec[http]<=2025.3.0,>=2023.1.0->datasets) (6.6.3)\n",
            "Requirement already satisfied: propcache>=0.2.0 in /usr/local/lib/python3.11/dist-packages (from aiohttp!=4.0.0a0,!=4.0.0a1->fsspec[http]<=2025.3.0,>=2023.1.0->datasets) (0.3.2)\n",
            "Requirement already satisfied: yarl<2.0,>=1.17.0 in /usr/local/lib/python3.11/dist-packages (from aiohttp!=4.0.0a0,!=4.0.0a1->fsspec[http]<=2025.3.0,>=2023.1.0->datasets) (1.20.1)\n",
            "Requirement already satisfied: six>=1.5 in /usr/local/lib/python3.11/dist-packages (from python-dateutil>=2.8.2->pandas->datasets) (1.17.0)\n",
            "Downloading datasets-4.0.0-py3-none-any.whl (494 kB)\n",
            "\u001b[2K   \u001b[90m━━━━━━━━━━━━━━━━━━━━━━━━━━━━━━━━━━━━━━━━\u001b[0m \u001b[32m494.8/494.8 kB\u001b[0m \u001b[31m13.9 MB/s\u001b[0m eta \u001b[36m0:00:00\u001b[0m\n",
            "\u001b[?25hDownloading fsspec-2025.3.0-py3-none-any.whl (193 kB)\n",
            "\u001b[2K   \u001b[90m━━━━━━━━━━━━━━━━━━━━━━━━━━━━━━━━━━━━━━━━\u001b[0m \u001b[32m193.6/193.6 kB\u001b[0m \u001b[31m18.6 MB/s\u001b[0m eta \u001b[36m0:00:00\u001b[0m\n",
            "\u001b[?25hInstalling collected packages: fsspec, datasets\n",
            "  Attempting uninstall: fsspec\n",
            "    Found existing installation: fsspec 2025.3.2\n",
            "    Uninstalling fsspec-2025.3.2:\n",
            "      Successfully uninstalled fsspec-2025.3.2\n",
            "  Attempting uninstall: datasets\n",
            "    Found existing installation: datasets 2.14.4\n",
            "    Uninstalling datasets-2.14.4:\n",
            "      Successfully uninstalled datasets-2.14.4\n",
            "\u001b[31mERROR: pip's dependency resolver does not currently take into account all the packages that are installed. This behaviour is the source of the following dependency conflicts.\n",
            "torch 2.6.0+cu124 requires nvidia-cublas-cu12==12.4.5.8; platform_system == \"Linux\" and platform_machine == \"x86_64\", but you have nvidia-cublas-cu12 12.5.3.2 which is incompatible.\n",
            "torch 2.6.0+cu124 requires nvidia-cuda-cupti-cu12==12.4.127; platform_system == \"Linux\" and platform_machine == \"x86_64\", but you have nvidia-cuda-cupti-cu12 12.5.82 which is incompatible.\n",
            "torch 2.6.0+cu124 requires nvidia-cuda-nvrtc-cu12==12.4.127; platform_system == \"Linux\" and platform_machine == \"x86_64\", but you have nvidia-cuda-nvrtc-cu12 12.5.82 which is incompatible.\n",
            "torch 2.6.0+cu124 requires nvidia-cuda-runtime-cu12==12.4.127; platform_system == \"Linux\" and platform_machine == \"x86_64\", but you have nvidia-cuda-runtime-cu12 12.5.82 which is incompatible.\n",
            "torch 2.6.0+cu124 requires nvidia-cudnn-cu12==9.1.0.70; platform_system == \"Linux\" and platform_machine == \"x86_64\", but you have nvidia-cudnn-cu12 9.3.0.75 which is incompatible.\n",
            "torch 2.6.0+cu124 requires nvidia-cufft-cu12==11.2.1.3; platform_system == \"Linux\" and platform_machine == \"x86_64\", but you have nvidia-cufft-cu12 11.2.3.61 which is incompatible.\n",
            "torch 2.6.0+cu124 requires nvidia-curand-cu12==10.3.5.147; platform_system == \"Linux\" and platform_machine == \"x86_64\", but you have nvidia-curand-cu12 10.3.6.82 which is incompatible.\n",
            "torch 2.6.0+cu124 requires nvidia-cusolver-cu12==11.6.1.9; platform_system == \"Linux\" and platform_machine == \"x86_64\", but you have nvidia-cusolver-cu12 11.6.3.83 which is incompatible.\n",
            "torch 2.6.0+cu124 requires nvidia-cusparse-cu12==12.3.1.170; platform_system == \"Linux\" and platform_machine == \"x86_64\", but you have nvidia-cusparse-cu12 12.5.1.3 which is incompatible.\n",
            "torch 2.6.0+cu124 requires nvidia-nvjitlink-cu12==12.4.127; platform_system == \"Linux\" and platform_machine == \"x86_64\", but you have nvidia-nvjitlink-cu12 12.5.82 which is incompatible.\n",
            "gcsfs 2025.3.2 requires fsspec==2025.3.2, but you have fsspec 2025.3.0 which is incompatible.\u001b[0m\u001b[31m\n",
            "\u001b[0mSuccessfully installed datasets-4.0.0 fsspec-2025.3.0\n"
          ]
        },
        {
          "output_type": "display_data",
          "data": {
            "application/vnd.colab-display-data+json": {
              "pip_warning": {
                "packages": [
                  "datasets",
                  "fsspec"
                ]
              },
              "id": "730551f186f14a2ebd306841f5ddbedd"
            }
          },
          "metadata": {}
        }
      ]
    },
    {
      "cell_type": "code",
      "source": [
        "from datasets import load_dataset\n"
      ],
      "metadata": {
        "id": "AHIXRcmTbiO2"
      },
      "execution_count": null,
      "outputs": []
    },
    {
      "cell_type": "code",
      "source": [
        "emotions = load_dataset(\"dair-ai/emotion\")\n"
      ],
      "metadata": {
        "colab": {
          "base_uri": "https://localhost:8080/",
          "height": 365,
          "referenced_widgets": [
            "eb28cbc30bf44f6db6729848eeaedebf",
            "7e1ee48f68f34fbb9e7dd64d3faa80e1",
            "6b3732774f11443fbb6fc111a385f486",
            "abfe13ec572f49f7bcced895e8b89226",
            "d6389cc967124edc86d0264c07fbeb3a",
            "c7f8408d3a714827a66b4c448bdb9af0",
            "d796480f52794898ba9cd4e07e057017",
            "04eae9082abd4070899962d462910176",
            "b322ebf592e14e31817a1e6538365c42",
            "ffaf98f65b1c438f85586fd93a7fa612",
            "42becebf3a7e4c7f95f5029781dc4b13",
            "9cf38ef3bf9f4e10a9ebf098f7d66a83",
            "51de384f728044528d9b88e58df7597d",
            "0884690a8c404af897c26a34421aac4f",
            "f18dd906975b41bcafefc8a2f6f6c55b",
            "6f8790e5ba9944baa7d889a666d39f08",
            "260d69a9cf0b47e58f486adb44af3f3d",
            "54511017f209429dbfe33096825d0a73",
            "cd7f25c38b2a4f48a0c83b3691b39def",
            "118d6cc5af014e69876c277bc528cf3f",
            "31b3117d0855420bb01411746a67317a",
            "6b28aa3bfe0b46dc9e11a227bde95ddb",
            "a02becb2f4954201be433153493ed030",
            "ab506062a4f04c58b8345e29d4cb3528",
            "d44d163a36fa46f2bfe4b1b04b63c7da",
            "890735e6da4b4b70a019c2b178fabae4",
            "fe8f422504314fbb9d99e4a39cc14070",
            "43f658f0317846e4a7fb4b904bddc2f5",
            "a287945ebe7c46908d6b76d7df0dfa08",
            "5845df63600b40fca723f9f5d0e43f4b",
            "4324094ba5cf420a9b45e8931fce07fc",
            "4aa50af305984b649399c337f7d78233",
            "884993a91b7f420aabc822cd42bf98bc",
            "5a09107690164d439e9e4961ccb71283",
            "da92959c2b5e44a7b307329011ff1b6f",
            "1b4a0b3b53424af99395dd2c7f003561",
            "a5eb16336504409ab784bad1b683529f",
            "d1f90c7c36d14e60af521a82e848609e",
            "2b1ae14a486741309b3886791c7de36b",
            "3a533b3567f54fdfa9e0b10154c007fc",
            "913e4dfab3f046d285117ae866a52a86",
            "1720f895e3814ed894ea39f9886b84ab",
            "73feb8d15633478b8c395a8b708c4596",
            "5e9e029c2aaf4d8e81ca89a6dbf0aa0d",
            "1353d67f74a44b7fbffdd2406b3e6cc5",
            "9b60fe3fd6764a929b7ce48c293cb013",
            "1b859da6df6c4151a30fda23359e9385",
            "06a65f2a796d4338ab0d5571f406eda3",
            "3475f35058214d98b2d3b41ee871d713",
            "5da15eef8ba741dabdb46fa1e1db0dd1",
            "19ad2a8be544407cb9c4fa7c944882c4",
            "85d8c0595cb44ea58be5a222a71c31a1",
            "8eaf8b6cfa534c80b1aff36e00148a72",
            "10baa3a7977a4a3f90be5c75c83c014d",
            "727d2fa94531416f8b1a92a7235f6831",
            "e66666fa51f34a17bfa777433a61aefb",
            "2ba5ae3e12404dba82066a15cb09e190",
            "ca0296337a3b4edabf3bfd0021b1b29b",
            "475dda75503c47dc952e7bc1d00fa135",
            "654cc00a1699492497fbd1e7291ca33e",
            "4a53430bc07d49e683c80e428100884f",
            "463e5aadbbad4588b277565ece50dd0b",
            "699d05c879b247ef9aa878072f47ee76",
            "b6f75ac59ce34640838dac0473d47dda",
            "ec273eb7b1c140e5afed326c81630fdf",
            "03d579812bc84504affd33fefb7acb92",
            "e71ac38ee3dc42e48630dd0ed50d0ebb",
            "89334890e096466db9bfbcf77a078eba",
            "d0eebd884ffd49b0a360bed7ce5e7ca9",
            "925ccfd791c34f45bf0d40948fc1759e",
            "cc645f5a8bc74e12bc2cbaa8eff151f1",
            "dc3859c0a10149bda85cd0f3559c5e79",
            "7d68e1673cc24a8da5e4df6b7e7646c9",
            "419b8b0a949d421f9946cfcb6fd17b7a",
            "f8af8c8e558e46ccbfc5508fa6389ecf",
            "22b562d5390b4274b034b27be0cbedf4",
            "1c89f8396607432eb97198b4b3ee7f1b"
          ]
        },
        "id": "NseSlABjbj8X",
        "outputId": "42369fe7-085e-4e55-a44e-c87d6b094246"
      },
      "execution_count": null,
      "outputs": [
        {
          "output_type": "stream",
          "name": "stderr",
          "text": [
            "/usr/local/lib/python3.11/dist-packages/huggingface_hub/utils/_auth.py:94: UserWarning: \n",
            "The secret `HF_TOKEN` does not exist in your Colab secrets.\n",
            "To authenticate with the Hugging Face Hub, create a token in your settings tab (https://huggingface.co/settings/tokens), set it as secret in your Google Colab and restart your session.\n",
            "You will be able to reuse this secret in all of your notebooks.\n",
            "Please note that authentication is recommended but still optional to access public models or datasets.\n",
            "  warnings.warn(\n"
          ]
        },
        {
          "output_type": "display_data",
          "data": {
            "text/plain": [
              "README.md: 0.00B [00:00, ?B/s]"
            ],
            "application/vnd.jupyter.widget-view+json": {
              "version_major": 2,
              "version_minor": 0,
              "model_id": "eb28cbc30bf44f6db6729848eeaedebf"
            }
          },
          "metadata": {}
        },
        {
          "output_type": "display_data",
          "data": {
            "text/plain": [
              "train-00000-of-00001.parquet:   0%|          | 0.00/1.03M [00:00<?, ?B/s]"
            ],
            "application/vnd.jupyter.widget-view+json": {
              "version_major": 2,
              "version_minor": 0,
              "model_id": "9cf38ef3bf9f4e10a9ebf098f7d66a83"
            }
          },
          "metadata": {}
        },
        {
          "output_type": "display_data",
          "data": {
            "text/plain": [
              "validation-00000-of-00001.parquet:   0%|          | 0.00/127k [00:00<?, ?B/s]"
            ],
            "application/vnd.jupyter.widget-view+json": {
              "version_major": 2,
              "version_minor": 0,
              "model_id": "a02becb2f4954201be433153493ed030"
            }
          },
          "metadata": {}
        },
        {
          "output_type": "display_data",
          "data": {
            "text/plain": [
              "test-00000-of-00001.parquet:   0%|          | 0.00/129k [00:00<?, ?B/s]"
            ],
            "application/vnd.jupyter.widget-view+json": {
              "version_major": 2,
              "version_minor": 0,
              "model_id": "5a09107690164d439e9e4961ccb71283"
            }
          },
          "metadata": {}
        },
        {
          "output_type": "display_data",
          "data": {
            "text/plain": [
              "Generating train split:   0%|          | 0/16000 [00:00<?, ? examples/s]"
            ],
            "application/vnd.jupyter.widget-view+json": {
              "version_major": 2,
              "version_minor": 0,
              "model_id": "1353d67f74a44b7fbffdd2406b3e6cc5"
            }
          },
          "metadata": {}
        },
        {
          "output_type": "display_data",
          "data": {
            "text/plain": [
              "Generating validation split:   0%|          | 0/2000 [00:00<?, ? examples/s]"
            ],
            "application/vnd.jupyter.widget-view+json": {
              "version_major": 2,
              "version_minor": 0,
              "model_id": "e66666fa51f34a17bfa777433a61aefb"
            }
          },
          "metadata": {}
        },
        {
          "output_type": "display_data",
          "data": {
            "text/plain": [
              "Generating test split:   0%|          | 0/2000 [00:00<?, ? examples/s]"
            ],
            "application/vnd.jupyter.widget-view+json": {
              "version_major": 2,
              "version_minor": 0,
              "model_id": "e71ac38ee3dc42e48630dd0ed50d0ebb"
            }
          },
          "metadata": {}
        }
      ]
    },
    {
      "cell_type": "code",
      "source": [
        "import numpy as np\n",
        "import tensorflow as tf\n",
        "from datasets import load_dataset\n",
        "from transformers import AutoTokenizer, TFAutoModelForSequenceClassification\n",
        "from transformers import DataCollatorWithPadding\n",
        "\n",
        "tokenizer = AutoTokenizer.from_pretrained(\"haidwg/distilbert-emotion-analysis-v1\")\n",
        "\n",
        "def tokenize(batch):\n",
        "    return tokenizer(batch[\"text\"], truncation=True)\n",
        "\n",
        "emotions_encoded = emotions.map(tokenize, batched=True, batch_size=None)\n",
        "data_collator = DataCollatorWithPadding(tokenizer=tokenizer, return_tensors=\"tf\")\n",
        "\n",
        "model = TFAutoModelForSequenceClassification.from_pretrained(\n",
        "    \"haidwg/distilbert-emotion-analysis-v1\", from_pt=False\n",
        ")"
      ],
      "metadata": {
        "colab": {
          "base_uri": "https://localhost:8080/",
          "height": 412,
          "referenced_widgets": [
            "1b8003c07507400581f81554eda51d35",
            "c140392499cf43f59016d75b5fb9b9f0",
            "102ba4446e38404fa1e3aedf50a6e944",
            "7e521a9ff51441299b86ba062ce2a7ca",
            "c160d2fb250b48f89f6621c33cf2304e",
            "501477c2e21444a6a3f7cecd0c0bc3c7",
            "0c59a15328484fbe884ab6deeda7da52",
            "78271c4b976d4112a330147a8836ac9d",
            "14be021405264017a1a9e43a6b741341",
            "f5572bdfe9354805878bdef770b082ba",
            "5b8350ea69cd437a9716f08e4a95322a",
            "0a7a2b07ba4f4c3cb9b8cee563b031a4",
            "c0b15d2872e94c85b6e72e7ce56f8b12",
            "b5275ba2c0d04f0da331340da8024d8c",
            "36bf118bd5d1461ea92f5f8c20a146da",
            "2e057f3f41774333ba537aa06e980cab",
            "db8873c8ec654aefa6b0968999c4166d",
            "79c4bf042ee04bf39d9fef83b3852fd0",
            "3d16dd3a2e104a67b7a9969d5a6425b9",
            "66659dcb40f44834a7795e771a149919",
            "8846772d85934263b2af7eacbf4b0289",
            "82854e6ca2454722b79ca0166947effa",
            "6f8f6d2cb8fb480ca3b8ceaa24f486cd",
            "af0b4841dc924c809f66a38e3defc14c",
            "bfc2fb4ccc9743e8bd2e5a13a79b3da3",
            "3fb8c78676e14cfb887305c0803bfbcc",
            "07f4c18eef1f4b138b981e60c2621d1e",
            "05f5116df5f242d7a9e972e1b7b37412",
            "14ce2297f0184ef1a95afe207f589318",
            "16151a32a79d4796a8337c5427d12fe3",
            "367b11a606824a1eb188790b5b80e45c",
            "8d23c918fa444c898234611ea5db6c8a",
            "99e472acf4114ad2b392d28a28ef6065",
            "b87c3474902b44139aca1d775de3b39a",
            "49e609d5e9ce44d3b71792b8bfe5c24a",
            "4f7df59eb56444c1921411e059a36fee",
            "bdbad174f88545599f00f38acc253c7f",
            "0244c169484040dbb416dee7970c8748",
            "87ecb563534748358c325124b2514efc",
            "8c9414be8c5844b0960b132ab53652f7",
            "37abe5eb36fc458b9f491e423cb3c971",
            "ead2f4302c594ad3847c76c60f18ff77",
            "5d6e3d23dc9146ef9895f85d735b2cbb",
            "d79ac2f5f1c4491ba9bc1bcba1bed754",
            "eecb801a6f2d4d0c8192424fa8164470",
            "1d87dfef76f5494eba9ff8a2c8039614",
            "6cafdd725e3e4c1f857569ea91611920",
            "fc800aca3e6d4b3e8e904ac243e01d92",
            "16f15d94fa1b4820b368ec94f2a8277c",
            "e8dad2aeaf6d437ea94d8d7030dd1b08",
            "da3fa97d37e74007a5bcb94059a20d36",
            "6c252336bc8344bd91a3e2b4f84c2f75",
            "92b4b2701f894095a5c499ac01c29b56",
            "e699e81879574a05b7cb0059304705f3",
            "ad76afa04a1a4f4781df82c24f71e12b",
            "2029a231a522418281e16049a8268a75",
            "e35012529d74459a9ce0cc0d5802400b",
            "ffab885ce8184c9d8e920f50e109d42b",
            "7675c9e5b9084d5d95426b5e5f8aa799",
            "9ec4b3701e314b10a34228459cdee484",
            "82e3b323371e4abea2471588065b980d",
            "cb86b6585f5d45c0afb9b0baf06bf78f",
            "27468d184b6b45508025e4ad872f59df",
            "33c8dce763014550be3a8d2b1f597652",
            "859e6aab48dd4855aa4f383f752bd547",
            "b0a489578f4543f59c30850d0f2d4206",
            "56c7d90e536f4e978954830bc6533b86",
            "82ab8a9ccde744a7bd5376d02d0295fe",
            "61951ed2704744b2bdd3340646b32646",
            "69d7cf99b88548f2a97913bd93226dad",
            "558a12546ebc4231a12edaf0cfdd9b5e",
            "c4f93848794f49d18739d0ca0649f27c",
            "15883e50cdcb44aabda6f19f0e9b55ab",
            "2219019585f54cc1935af1191d288e23",
            "0b0dbc39e9774031856d412ce845f394",
            "84cd418c40cc47038084b936a011104c",
            "b298e7c706e341579edc8d56b0b87252",
            "bb7927c56fac44938e6a19c98e8f25c3",
            "329d3bed0fee44b99f4fbb89d7d94f74",
            "7c98e0fd37914f45a4078be6d92d2b5f",
            "ee7c6e18a57944caabac5be3d4c1b79b",
            "98836559ff0548c198792f2ffde73adb",
            "308eb67f08e945adaf5a3659def26ba7",
            "33d370052ca94cdcadbe29438e62b2f7",
            "494a74661346477199763f126d33b2b1",
            "27264b50f0724b1d8726eb4aee45dda6",
            "929ca6f578d646b2a8a8ecedeea529b3",
            "553e862a3fed4d31ba6518ab708b6e2c",
            "b70f8d1cdc214a79b7eb73eb6e481966",
            "240e9de803f14362a11c86ad5d4f571d",
            "aeac019bb6db4e5d963f5ee4ec30a959",
            "9a336be7db994b7dba5590f6c6133347",
            "25a5f974229a43d0bb4b825e324ea8ff",
            "e0b1be6b39ba4b628e65c5a2e4b8d9b3",
            "83c218eb1eb44d1b8704b623a179bc39",
            "bf6ff95fcc73482fac7a4356f204492a",
            "0d3da5c30a3e42729203f519368e6e0d",
            "2f2c10b52011445f9471ce592ecd4114",
            "412569bf12584fc982ffcd74dc82c546"
          ]
        },
        "id": "vJ-1oqWgaVde",
        "outputId": "21ee09cc-4ee4-42c9-ac44-2dc26b081101"
      },
      "execution_count": null,
      "outputs": [
        {
          "output_type": "display_data",
          "data": {
            "text/plain": [
              "tokenizer_config.json: 0.00B [00:00, ?B/s]"
            ],
            "application/vnd.jupyter.widget-view+json": {
              "version_major": 2,
              "version_minor": 0,
              "model_id": "1b8003c07507400581f81554eda51d35"
            }
          },
          "metadata": {}
        },
        {
          "output_type": "display_data",
          "data": {
            "text/plain": [
              "vocab.txt: 0.00B [00:00, ?B/s]"
            ],
            "application/vnd.jupyter.widget-view+json": {
              "version_major": 2,
              "version_minor": 0,
              "model_id": "0a7a2b07ba4f4c3cb9b8cee563b031a4"
            }
          },
          "metadata": {}
        },
        {
          "output_type": "display_data",
          "data": {
            "text/plain": [
              "tokenizer.json: 0.00B [00:00, ?B/s]"
            ],
            "application/vnd.jupyter.widget-view+json": {
              "version_major": 2,
              "version_minor": 0,
              "model_id": "6f8f6d2cb8fb480ca3b8ceaa24f486cd"
            }
          },
          "metadata": {}
        },
        {
          "output_type": "display_data",
          "data": {
            "text/plain": [
              "special_tokens_map.json:   0%|          | 0.00/125 [00:00<?, ?B/s]"
            ],
            "application/vnd.jupyter.widget-view+json": {
              "version_major": 2,
              "version_minor": 0,
              "model_id": "b87c3474902b44139aca1d775de3b39a"
            }
          },
          "metadata": {}
        },
        {
          "output_type": "display_data",
          "data": {
            "text/plain": [
              "Map:   0%|          | 0/16000 [00:00<?, ? examples/s]"
            ],
            "application/vnd.jupyter.widget-view+json": {
              "version_major": 2,
              "version_minor": 0,
              "model_id": "eecb801a6f2d4d0c8192424fa8164470"
            }
          },
          "metadata": {}
        },
        {
          "output_type": "display_data",
          "data": {
            "text/plain": [
              "Map:   0%|          | 0/2000 [00:00<?, ? examples/s]"
            ],
            "application/vnd.jupyter.widget-view+json": {
              "version_major": 2,
              "version_minor": 0,
              "model_id": "2029a231a522418281e16049a8268a75"
            }
          },
          "metadata": {}
        },
        {
          "output_type": "display_data",
          "data": {
            "text/plain": [
              "Map:   0%|          | 0/2000 [00:00<?, ? examples/s]"
            ],
            "application/vnd.jupyter.widget-view+json": {
              "version_major": 2,
              "version_minor": 0,
              "model_id": "56c7d90e536f4e978954830bc6533b86"
            }
          },
          "metadata": {}
        },
        {
          "output_type": "display_data",
          "data": {
            "text/plain": [
              "config.json:   0%|          | 0.00/736 [00:00<?, ?B/s]"
            ],
            "application/vnd.jupyter.widget-view+json": {
              "version_major": 2,
              "version_minor": 0,
              "model_id": "bb7927c56fac44938e6a19c98e8f25c3"
            }
          },
          "metadata": {}
        },
        {
          "output_type": "display_data",
          "data": {
            "text/plain": [
              "tf_model.h5:   0%|          | 0.00/268M [00:00<?, ?B/s]"
            ],
            "application/vnd.jupyter.widget-view+json": {
              "version_major": 2,
              "version_minor": 0,
              "model_id": "b70f8d1cdc214a79b7eb73eb6e481966"
            }
          },
          "metadata": {}
        },
        {
          "output_type": "stream",
          "name": "stderr",
          "text": [
            "TensorFlow and JAX classes are deprecated and will be removed in Transformers v5. We recommend migrating to PyTorch classes or pinning your version of Transformers.\n",
            "All model checkpoint layers were used when initializing TFDistilBertForSequenceClassification.\n",
            "\n",
            "All the layers of TFDistilBertForSequenceClassification were initialized from the model checkpoint at haidwg/distilbert-emotion-analysis-v1.\n",
            "If your task is similar to the task the model of the checkpoint was trained on, you can already use TFDistilBertForSequenceClassification for predictions without further training.\n"
          ]
        }
      ]
    },
    {
      "cell_type": "code",
      "source": [
        "def evaluate_on_test_set(model, tokenizer, emotions_encoded, data_collator, batch_size=64):\n",
        "    \"\"\"\n",
        "    Evaluate the trained model on the test set and print metrics and confusion matrix.\n",
        "\n",
        "    Args:\n",
        "        model: trained TFAutoModelForSequenceClassification\n",
        "        tokenizer: AutoTokenizer\n",
        "        emotions_encoded: tokenized HuggingFace dataset\n",
        "        data_collator: DataCollatorWithPadding\n",
        "        batch_size: batch size for test set\n",
        "\n",
        "    Returns:\n",
        "        metrics: dict of evaluation metrics\n",
        "    \"\"\"\n",
        "    import numpy as np\n",
        "\n",
        "    # Prepare tf.data.Dataset for test set\n",
        "    tf_test_set = model.prepare_tf_dataset(\n",
        "        emotions_encoded[\"test\"],\n",
        "        shuffle=False,\n",
        "        batch_size=batch_size,\n",
        "        collate_fn=data_collator\n",
        "    )\n",
        "\n",
        "    # Get predictions\n",
        "    preds_logits = model.predict(tf_test_set).logits\n",
        "\n",
        "    # Get true labels\n",
        "    y_true = []\n",
        "    for batch in tf_test_set:\n",
        "        y_true.extend(batch[1].numpy())\n",
        "    y_true = np.array(y_true)\n",
        "\n",
        "    # Compute metrics and plots\n",
        "    metrics = compute_metrics((preds_logits, y_true))\n",
        "\n",
        "    return metrics\n"
      ],
      "metadata": {
        "id": "wFkjsWxhZ3Pz"
      },
      "execution_count": null,
      "outputs": []
    },
    {
      "cell_type": "code",
      "source": [
        "!pip install -q evaluate"
      ],
      "metadata": {
        "colab": {
          "base_uri": "https://localhost:8080/"
        },
        "id": "lO_5TdELdLw7",
        "outputId": "a80e2231-523d-4269-d9f6-f73ee7427e30"
      },
      "execution_count": null,
      "outputs": [
        {
          "output_type": "stream",
          "name": "stdout",
          "text": [
            "\u001b[?25l   \u001b[90m━━━━━━━━━━━━━━━━━━━━━━━━━━━━━━━━━━━━━━━━\u001b[0m \u001b[32m0.0/84.1 kB\u001b[0m \u001b[31m?\u001b[0m eta \u001b[36m-:--:--\u001b[0m\r\u001b[2K   \u001b[90m━━━━━━━━━━━━━━━━━━━━━━━━━━━━━━━━━━━━━━━━\u001b[0m \u001b[32m84.1/84.1 kB\u001b[0m \u001b[31m3.1 MB/s\u001b[0m eta \u001b[36m0:00:00\u001b[0m\n",
            "\u001b[?25h"
          ]
        }
      ]
    },
    {
      "cell_type": "code",
      "source": [
        "import evaluate\n",
        "accuracy = evaluate.load(\"accuracy\")\n",
        "\n",
        "from sklearn.metrics import classification_report, confusion_matrix, ConfusionMatrixDisplay\n",
        "import matplotlib.pyplot as plt\n",
        "\n",
        "def compute_metrics(eval_pred):\n",
        "    predictions, labels = eval_pred\n",
        "    predictions = np.argmax(predictions, axis=1)\n",
        "\n",
        "    # Compute overall accuracy\n",
        "    acc = accuracy.compute(predictions=predictions, references=labels)\n",
        "\n",
        "    # Label names\n",
        "    target_names = emotions['train'].features['label'].names\n",
        "\n",
        "    # Compute classification report and confusion matrix\n",
        "    report = classification_report(labels, predictions, target_names=target_names, output_dict=True)\n",
        "    cm = confusion_matrix(labels, predictions)\n",
        "\n",
        "    # Plot confusion matrix\n",
        "    disp = ConfusionMatrixDisplay(confusion_matrix=cm, display_labels=target_names)\n",
        "    disp.plot(cmap=plt.cm.Blues)\n",
        "    plt.title(\"Confusion Matrix\")\n",
        "    plt.show()\n",
        "\n",
        "    # Print classification report\n",
        "    print(\"Classification Report:\")\n",
        "    print(classification_report(labels, predictions, target_names=target_names))\n",
        "\n",
        "    # Return metrics dict for trainer\n",
        "    metrics = {\"accuracy\": acc[\"accuracy\"]}\n",
        "\n",
        "    for i, label in enumerate(target_names):\n",
        "        scores = report[label]\n",
        "        metrics[f\"{label}_precision\"] = scores[\"precision\"]\n",
        "        metrics[f\"{label}_recall\"] = scores[\"recall\"]\n",
        "        metrics[f\"{label}_f1\"] = scores[\"f1-score\"]\n",
        "\n",
        "    return metrics\n"
      ],
      "metadata": {
        "id": "4ycAybnmdB6T"
      },
      "execution_count": null,
      "outputs": []
    },
    {
      "cell_type": "code",
      "source": [
        "test_metrics = evaluate_on_test_set(model, tokenizer, emotions_encoded, data_collator)"
      ],
      "metadata": {
        "colab": {
          "base_uri": "https://localhost:8080/",
          "height": 732
        },
        "id": "bl6jkoh4aBum",
        "outputId": "18352a75-3f6f-48a8-cc82-3902df9beae2"
      },
      "execution_count": null,
      "outputs": [
        {
          "output_type": "stream",
          "name": "stdout",
          "text": [
            "32/32 [==============================] - 4s 124ms/step\n"
          ]
        },
        {
          "output_type": "display_data",
          "data": {
            "text/plain": [
              "<Figure size 640x480 with 2 Axes>"
            ],
            "image/png": "[encoded data removed]"
          },
          "metadata": {}
        },
        {
          "output_type": "stream",
          "name": "stdout",
          "text": [
            "Classification Report:\n",
            "              precision    recall  f1-score   support\n",
            "\n",
            "     sadness       0.97      0.97      0.97       581\n",
            "         joy       0.96      0.94      0.95       695\n",
            "        love       0.78      0.85      0.82       159\n",
            "       anger       0.94      0.91      0.93       275\n",
            "        fear       0.90      0.89      0.89       224\n",
            "    surprise       0.74      0.85      0.79        66\n",
            "\n",
            "    accuracy                           0.93      2000\n",
            "   macro avg       0.88      0.90      0.89      2000\n",
            "weighted avg       0.93      0.93      0.93      2000\n",
            "\n"
          ]
        }
      ]
    }
  ]
}
